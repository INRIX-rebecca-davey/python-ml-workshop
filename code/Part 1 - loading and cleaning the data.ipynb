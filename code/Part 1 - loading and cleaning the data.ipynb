{
 "cells": [
  {
   "cell_type": "code",
   "execution_count": 1,
   "metadata": {},
   "outputs": [],
   "source": [
    "# first we need to import the libraries we're going to use\n",
    "# 'import x as y' will import package x but give it the alias 'y' so you don't have to type out x all the time\n",
    "\n",
    "import pandas as pd # for handling and transforming the data"
   ]
  },
  {
   "cell_type": "markdown",
   "metadata": {},
   "source": [
    "## Part 1a - load the data"
   ]
  },
  {
   "cell_type": "markdown",
   "metadata": {},
   "source": [
    "### There are various issues with the raw dataset - can you find 3 problems as you work through this notebook?"
   ]
  },
  {
   "cell_type": "code",
   "execution_count": 2,
   "metadata": {},
   "outputs": [],
   "source": [
    "# load in the csv of our data, without specifying any options\n",
    "dataPath = \"../data/raw.csv\"\n",
    "df = pd.read_csv(???)"
   ]
  },
  {
   "cell_type": "code",
   "execution_count": 3,
   "metadata": {},
   "outputs": [
    {
     "data": {
      "text/html": [
       "<div>\n",
       "<style scoped>\n",
       "    .dataframe tbody tr th:only-of-type {\n",
       "        vertical-align: middle;\n",
       "    }\n",
       "\n",
       "    .dataframe tbody tr th {\n",
       "        vertical-align: top;\n",
       "    }\n",
       "\n",
       "    .dataframe thead th {\n",
       "        text-align: right;\n",
       "    }\n",
       "</style>\n",
       "<table border=\"1\" class=\"dataframe\">\n",
       "  <thead>\n",
       "    <tr style=\"text-align: right;\">\n",
       "      <th></th>\n",
       "      <th>reference_num</th>\n",
       "      <th>easting</th>\n",
       "      <th>northing</th>\n",
       "      <th>num_vehicles</th>\n",
       "      <th>accident_date</th>\n",
       "      <th>accident_time</th>\n",
       "      <th>road_class</th>\n",
       "      <th>road_surface</th>\n",
       "      <th>lighting</th>\n",
       "      <th>weather</th>\n",
       "      <th>casualty_class</th>\n",
       "      <th>casualty_severity</th>\n",
       "      <th>casualty_sex</th>\n",
       "      <th>casualty_age</th>\n",
       "      <th>vehicle_type</th>\n",
       "    </tr>\n",
       "  </thead>\n",
       "  <tbody>\n",
       "    <tr>\n",
       "      <th>0</th>\n",
       "      <td>3109</td>\n",
       "      <td>427890</td>\n",
       "      <td>430474</td>\n",
       "      <td>1</td>\n",
       "      <td>05-Jan-09</td>\n",
       "      <td>705</td>\n",
       "      <td>A</td>\n",
       "      <td>Wet / Damp</td>\n",
       "      <td>Darkness: street lights present and lit</td>\n",
       "      <td>Fine without high winds</td>\n",
       "      <td>Pedestrian</td>\n",
       "      <td>Serious</td>\n",
       "      <td>Male</td>\n",
       "      <td>18</td>\n",
       "      <td>Car</td>\n",
       "    </tr>\n",
       "    <tr>\n",
       "      <th>1</th>\n",
       "      <td>70609</td>\n",
       "      <td>439643</td>\n",
       "      <td>436962</td>\n",
       "      <td>3</td>\n",
       "      <td>28-Jan-09</td>\n",
       "      <td>1530</td>\n",
       "      <td>Unclassified</td>\n",
       "      <td>Wet / Damp</td>\n",
       "      <td>Daylight: street lights present</td>\n",
       "      <td>Fine without high winds</td>\n",
       "      <td>Driver</td>\n",
       "      <td>Serious</td>\n",
       "      <td>Male</td>\n",
       "      <td>75</td>\n",
       "      <td>Car</td>\n",
       "    </tr>\n",
       "    <tr>\n",
       "      <th>2</th>\n",
       "      <td>321309</td>\n",
       "      <td>437814</td>\n",
       "      <td>429825</td>\n",
       "      <td>3</td>\n",
       "      <td>25-Apr-09</td>\n",
       "      <td>1803</td>\n",
       "      <td>A</td>\n",
       "      <td>Dry</td>\n",
       "      <td>Daylight: street lights present</td>\n",
       "      <td>Fine without high winds</td>\n",
       "      <td>Driver</td>\n",
       "      <td>Serious</td>\n",
       "      <td>Male</td>\n",
       "      <td>39</td>\n",
       "      <td>Car</td>\n",
       "    </tr>\n",
       "    <tr>\n",
       "      <th>3</th>\n",
       "      <td>321309</td>\n",
       "      <td>437814</td>\n",
       "      <td>429825</td>\n",
       "      <td>3</td>\n",
       "      <td>25-Apr-09</td>\n",
       "      <td>1803</td>\n",
       "      <td>A</td>\n",
       "      <td>Dry</td>\n",
       "      <td>Daylight: street lights present</td>\n",
       "      <td>Fine without high winds</td>\n",
       "      <td>Passenger</td>\n",
       "      <td>Serious</td>\n",
       "      <td>Male</td>\n",
       "      <td>16</td>\n",
       "      <td>Car</td>\n",
       "    </tr>\n",
       "    <tr>\n",
       "      <th>4</th>\n",
       "      <td>321309</td>\n",
       "      <td>437814</td>\n",
       "      <td>429825</td>\n",
       "      <td>3</td>\n",
       "      <td>25-Apr-09</td>\n",
       "      <td>1803</td>\n",
       "      <td>A</td>\n",
       "      <td>Dry</td>\n",
       "      <td>Daylight: street lights present</td>\n",
       "      <td>Fine without high winds</td>\n",
       "      <td>Passenger</td>\n",
       "      <td>Serious</td>\n",
       "      <td>Male</td>\n",
       "      <td>12</td>\n",
       "      <td>Car</td>\n",
       "    </tr>\n",
       "  </tbody>\n",
       "</table>\n",
       "</div>"
      ],
      "text/plain": [
       "  reference_num  easting  northing  num_vehicles accident_date  accident_time  \\\n",
       "0          3109   427890    430474             1     05-Jan-09            705   \n",
       "1         70609   439643    436962             3     28-Jan-09           1530   \n",
       "2        321309   437814    429825             3     25-Apr-09           1803   \n",
       "3        321309   437814    429825             3     25-Apr-09           1803   \n",
       "4        321309   437814    429825             3     25-Apr-09           1803   \n",
       "\n",
       "     road_class road_surface                                 lighting  \\\n",
       "0             A   Wet / Damp  Darkness: street lights present and lit   \n",
       "1  Unclassified   Wet / Damp          Daylight: street lights present   \n",
       "2             A          Dry          Daylight: street lights present   \n",
       "3             A          Dry          Daylight: street lights present   \n",
       "4             A          Dry          Daylight: street lights present   \n",
       "\n",
       "                   weather casualty_class casualty_severity casualty_sex  \\\n",
       "0  Fine without high winds     Pedestrian           Serious         Male   \n",
       "1  Fine without high winds         Driver           Serious         Male   \n",
       "2  Fine without high winds         Driver           Serious         Male   \n",
       "3  Fine without high winds      Passenger           Serious         Male   \n",
       "4  Fine without high winds      Passenger           Serious         Male   \n",
       "\n",
       "   casualty_age vehicle_type  \n",
       "0            18          Car  \n",
       "1            75          Car  \n",
       "2            39          Car  \n",
       "3            16          Car  \n",
       "4            12          Car  "
      ]
     },
     "execution_count": 3,
     "metadata": {},
     "output_type": "execute_result"
    }
   ],
   "source": [
    "# use the head function to see the top N rows of the dataframe\n",
    "df.head(5)"
   ]
  },
  {
   "cell_type": "markdown",
   "metadata": {},
   "source": [
    "### Part 1b - exploring the different columns"
   ]
  },
  {
   "cell_type": "code",
   "execution_count": 4,
   "metadata": {},
   "outputs": [
    {
     "name": "stdout",
     "output_type": "stream",
     "text": [
      "reference_num - type = <class 'str'>\n",
      "easting - type = <class 'numpy.int64'>\n",
      "northing - type = <class 'numpy.int64'>\n",
      "num_vehicles - type = <class 'numpy.int64'>\n",
      "accident_date - type = <class 'str'>\n",
      "accident_time - type = <class 'numpy.int64'>\n",
      "road_class - type = <class 'str'>\n",
      "road_surface - type = <class 'str'>\n",
      "lighting - type = <class 'str'>\n",
      "weather - type = <class 'str'>\n",
      "casualty_class - type = <class 'str'>\n",
      "casualty_severity - type = <class 'str'>\n",
      "casualty_sex - type = <class 'str'>\n",
      "casualty_age - type = <class 'numpy.int64'>\n",
      "vehicle_type - type = <class 'str'>\n"
     ]
    }
   ],
   "source": [
    "# what columns do we have? Iterate over the columns in the dataframe and see what sort of data they contain\n",
    "# hint at the bottom!\n",
    "\n",
    "for column_name in ???:\n",
    "    ???\n",
    "\n",
    "# hint: df.columns returns the column names, df[columnName].values returns the values as a series"
   ]
  },
  {
   "cell_type": "code",
   "execution_count": 5,
   "metadata": {},
   "outputs": [
    {
     "name": "stdout",
     "output_type": "stream",
     "text": [
      "num_vehicles - min = 1, max = 14\n",
      "-------\n",
      "casualty_age - min = 0, max = 98\n",
      "-------\n"
     ]
    }
   ],
   "source": [
    "# numerical columns - is everything a number? a sensible number?\n",
    "\n",
    "# there are two numerical columns we can have a look at - what are they?\n",
    "numerical_columns = [???]\n",
    "\n",
    "# let's iterate through these and have a quick look at the values they contain\n",
    "for column in numerical_columns:\n",
    "    ???\n",
    "    \n",
    "# hint: Python has in-built methods like max and min that might be useful?"
   ]
  },
  {
   "cell_type": "code",
   "execution_count": 6,
   "metadata": {},
   "outputs": [
    {
     "name": "stdout",
     "output_type": "stream",
     "text": [
      "road_class - {'A', 'C', 'B', 'A(M)', 'Unclassified', 'Motorway'}\n",
      "-------\n",
      "road_surface - {nan, 'Flood (surface water over 3cm deep)', 'Flood', '5', 'Frost/ Ice', 'Snow', 'Wet / Damp', 'Dry', 'Frost / Ice'}\n",
      "-------\n",
      "lighting - {'5', 'Darkness: street lights present and lit', 'Darkness: street lighting unknown', 'Darkness: no street lighting', 'Daylight: street lights present', 'Darkness: street lights present but unlit'}\n",
      "-------\n",
      "weather - {'Fine without high winds', 'Raining without high winds', 'Unknown', 'Raining with high winds', 'Other', 'Snowing without high winds', 'Fog or mist \\x96 if hazard', 'Darkness: street lighting unknown', 'Fine with high winds', 'Snowing with high winds'}\n",
      "-------\n",
      "casualty_class - {'Driver', 'Driver/Rider', 'Passenger', 'Pedestrian'}\n",
      "-------\n",
      "casualty_severity - {'Serious', 'Slight'}\n",
      "-------\n",
      "casualty_sex - {'Male', 'Female'}\n",
      "-------\n",
      "vehicle_type - {'Motorcycle - Unknown CC', 'Motorcycle over 125cc and up to 500cc', 'M/cycle 50cc and under', 'Other Vehicle ', 'Agricultural vehicle (includes diggers etc.)', 'Mobility Scooter', 'Goods vehicle 3.5 tonnes mgw and under', 'Pedal cycle', 'Minibus (8 \\x96 16 passenger seats)', 'Tram / Light rail', 'Ridden horse', 'Goods vehicle over 3.5 tonnes and under 7.5 tonnes mgw', 'Goods vehicle 7.5 tonnes mgw and over', 'Motorcycle over 50cc and up to 125cc', 'Bus or coach (17 or more passenger seats)', 'Motorcycle over 500cc', 'Car', 'Taxi/Private hire car'}\n",
      "-------\n"
     ]
    }
   ],
   "source": [
    "# categorical columns - do the categories contain values we'd expect?\n",
    "\n",
    "# decide which columns you can check contain the correct categories\n",
    "categorical_columns = ['road_class', ???]\n",
    "\n",
    "# go through these columns and check that the values we have are expected\n",
    "for column in categorical_columns:\n",
    "    ???"
   ]
  },
  {
   "cell_type": "markdown",
   "metadata": {},
   "source": [
    "### Part 1c - fixing some problematic entries in the dataset"
   ]
  },
  {
   "cell_type": "code",
   "execution_count": 8,
   "metadata": {},
   "outputs": [
    {
     "name": "stdout",
     "output_type": "stream",
     "text": [
      "0 rows with Frost/ Ice\n",
      "256 rows with Frost / Ice\n"
     ]
    }
   ],
   "source": [
    "# some of the road surface entries are \"Frost / Ice\" and some are \"Frost/ Ice\" - we want to make them all the same\n",
    "\n",
    "print(\"{} rows with Frost/ Ice\".format(df[df.road_surface == 'Frost/ Ice'].shape[0]))\n",
    "print(\"{} rows with Frost / Ice\".format(df[df.road_surface == 'Frost / Ice'].shape[0]))"
   ]
  },
  {
   "cell_type": "code",
   "execution_count": 10,
   "metadata": {},
   "outputs": [],
   "source": [
    "# we can use the .loc function to isolate a set of rows that we can then access and modify\n",
    "\n",
    "value_to_filter_for = ???\n",
    "column_to_modify = ???\n",
    "value_we_want = ???\n",
    "\n",
    "df.loc[df[column_to_modify] == value_to_filter_for, column_to_modify] = value_we_want"
   ]
  },
  {
   "cell_type": "code",
   "execution_count": 11,
   "metadata": {},
   "outputs": [
    {
     "name": "stdout",
     "output_type": "stream",
     "text": [
      "0 rows with Frost/ Ice\n",
      "256 rows with Frost / Ice\n"
     ]
    }
   ],
   "source": [
    "print(\"{} rows with Frost/ Ice\".format(df[df.road_surface == 'Frost/ Ice'].shape[0]))\n",
    "print(\"{} rows with Frost / Ice\".format(df[df.road_surface == 'Frost / Ice'].shape[0]))"
   ]
  },
  {
   "cell_type": "code",
   "execution_count": null,
   "metadata": {},
   "outputs": [],
   "source": []
  }
 ],
 "metadata": {
  "kernelspec": {
   "display_name": "Python 3",
   "language": "python",
   "name": "python3"
  },
  "language_info": {
   "codemirror_mode": {
    "name": "ipython",
    "version": 3
   },
   "file_extension": ".py",
   "mimetype": "text/x-python",
   "name": "python",
   "nbconvert_exporter": "python",
   "pygments_lexer": "ipython3",
   "version": "3.6.4"
  }
 },
 "nbformat": 4,
 "nbformat_minor": 2
}
