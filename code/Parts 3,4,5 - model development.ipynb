{
 "cells": [
  {
   "cell_type": "code",
   "execution_count": 1,
   "metadata": {},
   "outputs": [],
   "source": [
    "from sklearn.model_selection import train_test_split\n",
    "from sklearn.tree import DecisionTreeClassifier, export_graphviz\n",
    "from sklearn import metrics\n",
    "\n",
    "import pandas as pd\n",
    "import graphviz"
   ]
  },
  {
   "cell_type": "markdown",
   "metadata": {},
   "source": [
    "## Part 3 - training the model"
   ]
  },
  {
   "cell_type": "code",
   "execution_count": 3,
   "metadata": {},
   "outputs": [],
   "source": [
    "# loading in the data from part 2 - ready to work with\n",
    "df = pd.read_csv(\"../data/ready.csv\")"
   ]
  },
  {
   "cell_type": "code",
   "execution_count": 5,
   "metadata": {},
   "outputs": [
    {
     "data": {
      "text/html": [
       "<div>\n",
       "<style scoped>\n",
       "    .dataframe tbody tr th:only-of-type {\n",
       "        vertical-align: middle;\n",
       "    }\n",
       "\n",
       "    .dataframe tbody tr th {\n",
       "        vertical-align: top;\n",
       "    }\n",
       "\n",
       "    .dataframe thead th {\n",
       "        text-align: right;\n",
       "    }\n",
       "</style>\n",
       "<table border=\"1\" class=\"dataframe\">\n",
       "  <thead>\n",
       "    <tr style=\"text-align: right;\">\n",
       "      <th></th>\n",
       "      <th>num_vehicles</th>\n",
       "      <th>casualty_age</th>\n",
       "      <th>is_male</th>\n",
       "      <th>is_serious</th>\n",
       "      <th>hour</th>\n",
       "      <th>is_dry</th>\n",
       "      <th>road_class_is_unclassified</th>\n",
       "      <th>road_class_is_a(m)</th>\n",
       "      <th>road_class_is_motorway</th>\n",
       "      <th>road_class_is_a</th>\n",
       "      <th>...</th>\n",
       "      <th>casualty_class_is_driver/rider</th>\n",
       "      <th>casualty_class_is_passenger</th>\n",
       "      <th>casualty_class_is_pedestrian</th>\n",
       "      <th>weekday_string_is_sat</th>\n",
       "      <th>weekday_string_is_wed</th>\n",
       "      <th>weekday_string_is_tue</th>\n",
       "      <th>weekday_string_is_sun</th>\n",
       "      <th>weekday_string_is_thu</th>\n",
       "      <th>weekday_string_is_mon</th>\n",
       "      <th>weekday_string_is_fri</th>\n",
       "    </tr>\n",
       "  </thead>\n",
       "  <tbody>\n",
       "    <tr>\n",
       "      <th>0</th>\n",
       "      <td>2</td>\n",
       "      <td>30</td>\n",
       "      <td>1</td>\n",
       "      <td>0</td>\n",
       "      <td>23</td>\n",
       "      <td>1</td>\n",
       "      <td>1</td>\n",
       "      <td>0</td>\n",
       "      <td>0</td>\n",
       "      <td>0</td>\n",
       "      <td>...</td>\n",
       "      <td>1</td>\n",
       "      <td>0</td>\n",
       "      <td>0</td>\n",
       "      <td>1</td>\n",
       "      <td>0</td>\n",
       "      <td>0</td>\n",
       "      <td>0</td>\n",
       "      <td>0</td>\n",
       "      <td>0</td>\n",
       "      <td>0</td>\n",
       "    </tr>\n",
       "    <tr>\n",
       "      <th>1</th>\n",
       "      <td>2</td>\n",
       "      <td>20</td>\n",
       "      <td>0</td>\n",
       "      <td>0</td>\n",
       "      <td>23</td>\n",
       "      <td>1</td>\n",
       "      <td>1</td>\n",
       "      <td>0</td>\n",
       "      <td>0</td>\n",
       "      <td>0</td>\n",
       "      <td>...</td>\n",
       "      <td>1</td>\n",
       "      <td>0</td>\n",
       "      <td>0</td>\n",
       "      <td>1</td>\n",
       "      <td>0</td>\n",
       "      <td>0</td>\n",
       "      <td>0</td>\n",
       "      <td>0</td>\n",
       "      <td>0</td>\n",
       "      <td>0</td>\n",
       "    </tr>\n",
       "    <tr>\n",
       "      <th>2</th>\n",
       "      <td>1</td>\n",
       "      <td>29</td>\n",
       "      <td>1</td>\n",
       "      <td>0</td>\n",
       "      <td>6</td>\n",
       "      <td>1</td>\n",
       "      <td>0</td>\n",
       "      <td>1</td>\n",
       "      <td>0</td>\n",
       "      <td>0</td>\n",
       "      <td>...</td>\n",
       "      <td>1</td>\n",
       "      <td>0</td>\n",
       "      <td>0</td>\n",
       "      <td>1</td>\n",
       "      <td>0</td>\n",
       "      <td>0</td>\n",
       "      <td>0</td>\n",
       "      <td>0</td>\n",
       "      <td>0</td>\n",
       "      <td>0</td>\n",
       "    </tr>\n",
       "    <tr>\n",
       "      <th>3</th>\n",
       "      <td>4</td>\n",
       "      <td>17</td>\n",
       "      <td>1</td>\n",
       "      <td>0</td>\n",
       "      <td>6</td>\n",
       "      <td>1</td>\n",
       "      <td>0</td>\n",
       "      <td>1</td>\n",
       "      <td>0</td>\n",
       "      <td>0</td>\n",
       "      <td>...</td>\n",
       "      <td>1</td>\n",
       "      <td>0</td>\n",
       "      <td>0</td>\n",
       "      <td>0</td>\n",
       "      <td>0</td>\n",
       "      <td>0</td>\n",
       "      <td>0</td>\n",
       "      <td>1</td>\n",
       "      <td>0</td>\n",
       "      <td>0</td>\n",
       "    </tr>\n",
       "    <tr>\n",
       "      <th>4</th>\n",
       "      <td>4</td>\n",
       "      <td>53</td>\n",
       "      <td>1</td>\n",
       "      <td>0</td>\n",
       "      <td>6</td>\n",
       "      <td>1</td>\n",
       "      <td>0</td>\n",
       "      <td>1</td>\n",
       "      <td>0</td>\n",
       "      <td>0</td>\n",
       "      <td>...</td>\n",
       "      <td>1</td>\n",
       "      <td>0</td>\n",
       "      <td>0</td>\n",
       "      <td>0</td>\n",
       "      <td>0</td>\n",
       "      <td>0</td>\n",
       "      <td>0</td>\n",
       "      <td>1</td>\n",
       "      <td>0</td>\n",
       "      <td>0</td>\n",
       "    </tr>\n",
       "  </tbody>\n",
       "</table>\n",
       "<p>5 rows × 40 columns</p>\n",
       "</div>"
      ],
      "text/plain": [
       "   num_vehicles  casualty_age  is_male  is_serious  hour  is_dry  \\\n",
       "0             2            30        1           0    23       1   \n",
       "1             2            20        0           0    23       1   \n",
       "2             1            29        1           0     6       1   \n",
       "3             4            17        1           0     6       1   \n",
       "4             4            53        1           0     6       1   \n",
       "\n",
       "   road_class_is_unclassified  road_class_is_a(m)  road_class_is_motorway  \\\n",
       "0                           1                   0                       0   \n",
       "1                           1                   0                       0   \n",
       "2                           0                   1                       0   \n",
       "3                           0                   1                       0   \n",
       "4                           0                   1                       0   \n",
       "\n",
       "   road_class_is_a          ...            casualty_class_is_driver/rider  \\\n",
       "0                0          ...                                         1   \n",
       "1                0          ...                                         1   \n",
       "2                0          ...                                         1   \n",
       "3                0          ...                                         1   \n",
       "4                0          ...                                         1   \n",
       "\n",
       "   casualty_class_is_passenger  casualty_class_is_pedestrian  \\\n",
       "0                            0                             0   \n",
       "1                            0                             0   \n",
       "2                            0                             0   \n",
       "3                            0                             0   \n",
       "4                            0                             0   \n",
       "\n",
       "   weekday_string_is_sat  weekday_string_is_wed  weekday_string_is_tue  \\\n",
       "0                      1                      0                      0   \n",
       "1                      1                      0                      0   \n",
       "2                      1                      0                      0   \n",
       "3                      0                      0                      0   \n",
       "4                      0                      0                      0   \n",
       "\n",
       "   weekday_string_is_sun  weekday_string_is_thu  weekday_string_is_mon  \\\n",
       "0                      0                      0                      0   \n",
       "1                      0                      0                      0   \n",
       "2                      0                      0                      0   \n",
       "3                      0                      1                      0   \n",
       "4                      0                      1                      0   \n",
       "\n",
       "   weekday_string_is_fri  \n",
       "0                      0  \n",
       "1                      0  \n",
       "2                      0  \n",
       "3                      0  \n",
       "4                      0  \n",
       "\n",
       "[5 rows x 40 columns]"
      ]
     },
     "execution_count": 5,
     "metadata": {},
     "output_type": "execute_result"
    }
   ],
   "source": [
    "df.head(5)"
   ]
  },
  {
   "cell_type": "markdown",
   "metadata": {},
   "source": [
    "### Part 3a - getting the DataFrame into X matrix and y vector form"
   ]
  },
  {
   "cell_type": "code",
   "execution_count": 9,
   "metadata": {},
   "outputs": [
    {
     "ename": "SyntaxError",
     "evalue": "invalid syntax (<ipython-input-9-3aba16a1b40b>, line 3)",
     "output_type": "error",
     "traceback": [
      "\u001b[1;36m  File \u001b[1;32m\"<ipython-input-9-3aba16a1b40b>\"\u001b[1;36m, line \u001b[1;32m3\u001b[0m\n\u001b[1;33m    y = ???\u001b[0m\n\u001b[1;37m        ^\u001b[0m\n\u001b[1;31mSyntaxError\u001b[0m\u001b[1;31m:\u001b[0m invalid syntax\n"
     ]
    }
   ],
   "source": [
    "# we want to now leave the pandas DataFrame format and get a matrix of features (X) and labels vector (y)\n",
    "\n",
    "y = ???\n",
    "X = ???\n",
    "\n",
    "# hint: explore the DataFrame API and see if there's anything there that could make life easier...\n",
    "# https://pandas.pydata.org/pandas-docs/stable/generated/pandas.DataFrame.html"
   ]
  },
  {
   "cell_type": "markdown",
   "metadata": {},
   "source": [
    "### Part 3b - creating a train/test split"
   ]
  },
  {
   "cell_type": "code",
   "execution_count": null,
   "metadata": {},
   "outputs": [],
   "source": [
    "# we want to separate this data into a bulk for training and a 'hold-out' set for testing\n",
    "\n",
    "X_train, X_test, y_train, y_test = ???\n",
    "\n",
    "print(\"The training set has {} rows\".format(len(X_train)))\n",
    "print(\"The test set has {} rows\".format(len(X_test)))\n",
    "\n",
    "# hint: http://scikit-learn.org/stable/modules/generated/sklearn.model_selection.train_test_split.html"
   ]
  },
  {
   "cell_type": "markdown",
   "metadata": {},
   "source": [
    "### Part 3c - initialise classifier and train"
   ]
  },
  {
   "cell_type": "code",
   "execution_count": null,
   "metadata": {},
   "outputs": [],
   "source": [
    "# let's start by not setting any parameters on our model, and fit to our training data\n",
    "dtc = DecisionTreeClassifier()\n",
    "dtc.fit(X_train, y_train)"
   ]
  },
  {
   "cell_type": "markdown",
   "metadata": {},
   "source": [
    "## Part 4 - visualising the model"
   ]
  },
  {
   "cell_type": "code",
   "execution_count": null,
   "metadata": {},
   "outputs": [],
   "source": [
    "# use graphviz to visualize the model\n",
    "# try changing the model parameters (eg. max_depth) above and see how it affects the tree!\n",
    "\n",
    "tree = export_graphviz(dtc, out_file=None, \n",
    "                       feature_names=???, \n",
    "                       class_names=???, \n",
    "                       filled=True, \n",
    "                       rounded=True\n",
    "                      )\n",
    "\n",
    "graphviz.Source(tree)"
   ]
  },
  {
   "cell_type": "markdown",
   "metadata": {},
   "source": [
    "## Part 5 - evaluating the model"
   ]
  },
  {
   "cell_type": "code",
   "execution_count": 11,
   "metadata": {},
   "outputs": [
    {
     "ename": "SyntaxError",
     "evalue": "invalid syntax (<ipython-input-11-b7a0db51d0a3>, line 3)",
     "output_type": "error",
     "traceback": [
      "\u001b[1;36m  File \u001b[1;32m\"<ipython-input-11-b7a0db51d0a3>\"\u001b[1;36m, line \u001b[1;32m3\u001b[0m\n\u001b[1;33m    true_labels = ??? # do we have this from earlier?\u001b[0m\n\u001b[1;37m                  ^\u001b[0m\n\u001b[1;31mSyntaxError\u001b[0m\u001b[1;31m:\u001b[0m invalid syntax\n"
     ]
    }
   ],
   "source": [
    "# we want to get the predictions the model makes on the test data and compare that to our true labels\n",
    "\n",
    "true_labels = ??? # do we have this from earlier?\n",
    "predicted_labels = dtc.predict(???)"
   ]
  },
  {
   "cell_type": "code",
   "execution_count": null,
   "metadata": {},
   "outputs": [],
   "source": [
    "# first let's try to build our own confusion matrix\n",
    "# we want to iterate through the true and predicted labels, comparing values\n",
    "\n",
    "true_pred_pairs = zip(true_labels, predicted_labels)\n",
    "\n",
    "for (true, pred) in true_pred_pairs:\n",
    "    ???"
   ]
  },
  {
   "cell_type": "code",
   "execution_count": null,
   "metadata": {},
   "outputs": [],
   "source": [
    "# what can we tell from these values? \n",
    "# and what do the scores tell us about our model?\n",
    "\n",
    "precision = ???\n",
    "recall = ???\n",
    "f1 = ???\n",
    "\n",
    "print(\"Precision score: {}\".format(precision))\n",
    "print(\"Recall score: {}\".format(recall))\n",
    "print(\"F1 score: {}\".format(f1))"
   ]
  },
  {
   "cell_type": "code",
   "execution_count": null,
   "metadata": {},
   "outputs": [],
   "source": [
    "# fortunately, scikit-learn has handy methods to do this for us!\n",
    "# check them out here: http://scikit-learn.org/stable/modules/classes.html#sklearn-metrics-metrics\n",
    "\n",
    "metrics.confusion_matrix(true_labels, predicted_labels)"
   ]
  },
  {
   "cell_type": "code",
   "execution_count": null,
   "metadata": {},
   "outputs": [],
   "source": [
    "# we can now use the metrics module to score the model in various ways\n",
    "# check out http://scikit-learn.org/stable/modules/classes.html#sklearn-metrics-metrics\n",
    "\n",
    "precisionSKL = metrics.???\n",
    "recallSKL = metrics.???\n",
    "f1SKL = metrics.???\n",
    "\n",
    "print(\"Precision score: {}\".format(precisionSKL))\n",
    "print(\"Recall score: {}\".format(recallSKL))\n",
    "print(\"F1 score: {}\".format(f1SKL))"
   ]
  }
 ],
 "metadata": {
  "kernelspec": {
   "display_name": "Python 3",
   "language": "python",
   "name": "python3"
  },
  "language_info": {
   "codemirror_mode": {
    "name": "ipython",
    "version": 3
   },
   "file_extension": ".py",
   "mimetype": "text/x-python",
   "name": "python",
   "nbconvert_exporter": "python",
   "pygments_lexer": "ipython3",
   "version": "3.6.4"
  }
 },
 "nbformat": 4,
 "nbformat_minor": 2
}
