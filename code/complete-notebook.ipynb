{
 "cells": [
  {
   "cell_type": "code",
   "execution_count": 1,
   "metadata": {},
   "outputs": [],
   "source": [
    "# first we need to import the libraries we're going to use\n",
    "# 'import x as y' will import package x but give it the alias 'y' so you don't have to type out x all the time\n",
    "\n",
    "import matplotlib.pyplot as plt # for making nice plots\n",
    "import sklearn as skl # for the machine learning bit!\n",
    "import pandas as pd # for handling and transforming the data\n",
    "import numpy as np # for useful numerical operations\n",
    "import graphviz # for visualizing our decision tree\n",
    "import lime # for visualizing tree model predictions"
   ]
  },
  {
   "cell_type": "markdown",
   "metadata": {},
   "source": [
    "## Part 0 - loading the data"
   ]
  },
  {
   "cell_type": "code",
   "execution_count": 2,
   "metadata": {},
   "outputs": [],
   "source": [
    "df = pd.read_csv(\"../data/cleaned-with-latlng.csv\", encoding='latin1')"
   ]
  },
  {
   "cell_type": "code",
   "execution_count": 4,
   "metadata": {},
   "outputs": [
    {
     "data": {
      "text/html": [
       "<div>\n",
       "<style scoped>\n",
       "    .dataframe tbody tr th:only-of-type {\n",
       "        vertical-align: middle;\n",
       "    }\n",
       "\n",
       "    .dataframe tbody tr th {\n",
       "        vertical-align: top;\n",
       "    }\n",
       "\n",
       "    .dataframe thead th {\n",
       "        text-align: right;\n",
       "    }\n",
       "</style>\n",
       "<table border=\"1\" class=\"dataframe\">\n",
       "  <thead>\n",
       "    <tr style=\"text-align: right;\">\n",
       "      <th></th>\n",
       "      <th>Reference Number</th>\n",
       "      <th>Latitude</th>\n",
       "      <th>Longitude</th>\n",
       "      <th>Number of Vehicles</th>\n",
       "      <th>Accident Date</th>\n",
       "      <th>Time (24hr)</th>\n",
       "      <th>1st Road Class</th>\n",
       "      <th>Road Surface</th>\n",
       "      <th>Lighting Conditions</th>\n",
       "      <th>Weather Conditions</th>\n",
       "      <th>Casualty Class</th>\n",
       "      <th>Casualty Severity</th>\n",
       "      <th>Sex of Casualty</th>\n",
       "      <th>Age of Casualty</th>\n",
       "      <th>Type of Vehicle</th>\n",
       "    </tr>\n",
       "  </thead>\n",
       "  <tbody>\n",
       "    <tr>\n",
       "      <th>0</th>\n",
       "      <td>202609</td>\n",
       "      <td>53.891468</td>\n",
       "      <td>-1.667699</td>\n",
       "      <td>2</td>\n",
       "      <td>14-Mar-09</td>\n",
       "      <td>2330</td>\n",
       "      <td>Unclassified</td>\n",
       "      <td>Dry</td>\n",
       "      <td>Darkness: no street lighting</td>\n",
       "      <td>Fine with high winds</td>\n",
       "      <td>Driver/Rider</td>\n",
       "      <td>Slight</td>\n",
       "      <td>Male</td>\n",
       "      <td>30</td>\n",
       "      <td>Car</td>\n",
       "    </tr>\n",
       "    <tr>\n",
       "      <th>1</th>\n",
       "      <td>202609</td>\n",
       "      <td>53.891468</td>\n",
       "      <td>-1.667699</td>\n",
       "      <td>2</td>\n",
       "      <td>14-Mar-09</td>\n",
       "      <td>2330</td>\n",
       "      <td>Unclassified</td>\n",
       "      <td>Dry</td>\n",
       "      <td>Darkness: no street lighting</td>\n",
       "      <td>Fine with high winds</td>\n",
       "      <td>Driver/Rider</td>\n",
       "      <td>Slight</td>\n",
       "      <td>Female</td>\n",
       "      <td>20</td>\n",
       "      <td>Car</td>\n",
       "    </tr>\n",
       "    <tr>\n",
       "      <th>2</th>\n",
       "      <td>810209</td>\n",
       "      <td>53.933915</td>\n",
       "      <td>-1.374070</td>\n",
       "      <td>1</td>\n",
       "      <td>03-Oct-09</td>\n",
       "      <td>630</td>\n",
       "      <td>A(M)</td>\n",
       "      <td>Dry</td>\n",
       "      <td>Darkness: no street lighting</td>\n",
       "      <td>Fine with high winds</td>\n",
       "      <td>Driver/Rider</td>\n",
       "      <td>Slight</td>\n",
       "      <td>Male</td>\n",
       "      <td>29</td>\n",
       "      <td>Car</td>\n",
       "    </tr>\n",
       "    <tr>\n",
       "      <th>3</th>\n",
       "      <td>972109</td>\n",
       "      <td>53.911349</td>\n",
       "      <td>-1.384957</td>\n",
       "      <td>4</td>\n",
       "      <td>19-Nov-09</td>\n",
       "      <td>630</td>\n",
       "      <td>A(M)</td>\n",
       "      <td>Dry</td>\n",
       "      <td>Darkness: no street lighting</td>\n",
       "      <td>Fine with high winds</td>\n",
       "      <td>Driver/Rider</td>\n",
       "      <td>Slight</td>\n",
       "      <td>Male</td>\n",
       "      <td>17</td>\n",
       "      <td>Car</td>\n",
       "    </tr>\n",
       "    <tr>\n",
       "      <th>4</th>\n",
       "      <td>972109</td>\n",
       "      <td>53.911349</td>\n",
       "      <td>-1.384957</td>\n",
       "      <td>4</td>\n",
       "      <td>19-Nov-09</td>\n",
       "      <td>630</td>\n",
       "      <td>A(M)</td>\n",
       "      <td>Dry</td>\n",
       "      <td>Darkness: no street lighting</td>\n",
       "      <td>Fine with high winds</td>\n",
       "      <td>Driver/Rider</td>\n",
       "      <td>Slight</td>\n",
       "      <td>Male</td>\n",
       "      <td>53</td>\n",
       "      <td>Goods vehicle 3.5 tonnes mgw and under</td>\n",
       "    </tr>\n",
       "  </tbody>\n",
       "</table>\n",
       "</div>"
      ],
      "text/plain": [
       "  Reference Number   Latitude  Longitude  Number of Vehicles Accident Date  \\\n",
       "0           202609  53.891468  -1.667699                   2     14-Mar-09   \n",
       "1           202609  53.891468  -1.667699                   2     14-Mar-09   \n",
       "2           810209  53.933915  -1.374070                   1     03-Oct-09   \n",
       "3           972109  53.911349  -1.384957                   4     19-Nov-09   \n",
       "4           972109  53.911349  -1.384957                   4     19-Nov-09   \n",
       "\n",
       "   Time (24hr) 1st Road Class Road Surface           Lighting Conditions  \\\n",
       "0         2330   Unclassified          Dry  Darkness: no street lighting   \n",
       "1         2330   Unclassified          Dry  Darkness: no street lighting   \n",
       "2          630           A(M)          Dry  Darkness: no street lighting   \n",
       "3          630           A(M)          Dry  Darkness: no street lighting   \n",
       "4          630           A(M)          Dry  Darkness: no street lighting   \n",
       "\n",
       "     Weather Conditions Casualty Class Casualty Severity Sex of Casualty  \\\n",
       "0  Fine with high winds   Driver/Rider            Slight            Male   \n",
       "1  Fine with high winds   Driver/Rider            Slight          Female   \n",
       "2  Fine with high winds   Driver/Rider            Slight            Male   \n",
       "3  Fine with high winds   Driver/Rider            Slight            Male   \n",
       "4  Fine with high winds   Driver/Rider            Slight            Male   \n",
       "\n",
       "   Age of Casualty                         Type of Vehicle  \n",
       "0               30                                     Car  \n",
       "1               20                                     Car  \n",
       "2               29                                     Car  \n",
       "3               17                                     Car  \n",
       "4               53  Goods vehicle 3.5 tonnes mgw and under  "
      ]
     },
     "execution_count": 4,
     "metadata": {},
     "output_type": "execute_result"
    }
   ],
   "source": [
    "df.head(5)"
   ]
  },
  {
   "cell_type": "markdown",
   "metadata": {},
   "source": [
    "## Part 1 - cleaning the data (5-10 mins)"
   ]
  },
  {
   "cell_type": "code",
   "execution_count": 25,
   "metadata": {},
   "outputs": [],
   "source": [
    "# people load the data and try to find three things that might cause problems for us\n",
    "# valid answers: null values, mix of numerical and text category labels, data in wrong columns, not normalized"
   ]
  },
  {
   "cell_type": "code",
   "execution_count": null,
   "metadata": {},
   "outputs": [],
   "source": [
    "# checking we don't have null values"
   ]
  },
  {
   "cell_type": "code",
   "execution_count": 20,
   "metadata": {},
   "outputs": [],
   "source": [
    "# check not a mix of numerical and text categories"
   ]
  },
  {
   "cell_type": "code",
   "execution_count": 19,
   "metadata": {},
   "outputs": [],
   "source": [
    "# checking things are in the right categories or don't have their numerical values"
   ]
  },
  {
   "cell_type": "markdown",
   "metadata": {},
   "source": [
    "## Part 2 - exploratory analysis (10 mins)"
   ]
  },
  {
   "cell_type": "code",
   "execution_count": 16,
   "metadata": {},
   "outputs": [],
   "source": [
    "# have a look at distribution of slight/serious end cases"
   ]
  },
  {
   "cell_type": "code",
   "execution_count": 26,
   "metadata": {},
   "outputs": [],
   "source": [
    "# want to get a feel for distributions of other features and possible relationships"
   ]
  },
  {
   "cell_type": "code",
   "execution_count": 23,
   "metadata": {},
   "outputs": [],
   "source": [
    "# what are we going to learn from this section?"
   ]
  },
  {
   "cell_type": "markdown",
   "metadata": {},
   "source": [
    "## Part 3 - feature engineering (15 mins)"
   ]
  },
  {
   "cell_type": "code",
   "execution_count": 11,
   "metadata": {},
   "outputs": [],
   "source": [
    "# not all of the existing features in the dataset are going to be useful\n",
    "# e.g. without map to tie to, lat and long not useful so can exclude"
   ]
  },
  {
   "cell_type": "code",
   "execution_count": 13,
   "metadata": {},
   "outputs": [],
   "source": [
    "# creating better features from existing ones (e.g. weekend vs weekday, day bins)\n",
    "\n",
    "# some features are useful but not in their current state"
   ]
  },
  {
   "cell_type": "code",
   "execution_count": 15,
   "metadata": {},
   "outputs": [],
   "source": [
    "# encoding categorical data\n",
    "\n",
    "# some features are categorical and we need to encode this = one hot encoding!"
   ]
  },
  {
   "cell_type": "code",
   "execution_count": 9,
   "metadata": {},
   "outputs": [],
   "source": [
    "# normalization not necessary for decision trees but good to know\n",
    "\n",
    "# in some methods you'll want to standardize numerical features\n",
    "# example would be to take e.g. age in our model\n",
    "\n",
    "# find mean and re-do as difference from mean, and visualise here"
   ]
  },
  {
   "cell_type": "markdown",
   "metadata": {},
   "source": [
    "## Part 4 - training the model"
   ]
  },
  {
   "cell_type": "code",
   "execution_count": 16,
   "metadata": {},
   "outputs": [],
   "source": [
    "# want to split into appropriate set sizes, train, cv, test etc\n",
    "# check target class is well-represented in train/test split\n",
    "# training the model"
   ]
  },
  {
   "cell_type": "markdown",
   "metadata": {},
   "source": [
    "## Part 5 - visualising the model"
   ]
  },
  {
   "cell_type": "code",
   "execution_count": 27,
   "metadata": {},
   "outputs": [],
   "source": [
    "# use graphviz and lime to visualise the model and show paths through the tree for new data?"
   ]
  },
  {
   "cell_type": "markdown",
   "metadata": {},
   "source": [
    "## Part 6 - evaluating the model"
   ]
  },
  {
   "cell_type": "code",
   "execution_count": 28,
   "metadata": {},
   "outputs": [],
   "source": [
    "# binary classification metrics\n",
    "\n",
    "# want good examples to demonstrate pros/cons of different metrics"
   ]
  },
  {
   "cell_type": "code",
   "execution_count": 29,
   "metadata": {},
   "outputs": [],
   "source": [
    "# testing on test data"
   ]
  },
  {
   "cell_type": "markdown",
   "metadata": {},
   "source": [
    "## Part 7 - enhancing the model"
   ]
  },
  {
   "cell_type": "code",
   "execution_count": 30,
   "metadata": {},
   "outputs": [],
   "source": [
    "# random forest and ensemble methods\n",
    "\n",
    "# extending to random forest and explaining significance of new parameters\n",
    "# general explanation on advantages of ensemble methods# random forest and ensemble methods"
   ]
  },
  {
   "cell_type": "code",
   "execution_count": 31,
   "metadata": {},
   "outputs": [],
   "source": [
    "# re evaluation on new model"
   ]
  },
  {
   "cell_type": "code",
   "execution_count": null,
   "metadata": {},
   "outputs": [],
   "source": []
  }
 ],
 "metadata": {
  "kernelspec": {
   "display_name": "Python 3",
   "language": "python",
   "name": "python3"
  },
  "language_info": {
   "codemirror_mode": {
    "name": "ipython",
    "version": 3
   },
   "file_extension": ".py",
   "mimetype": "text/x-python",
   "name": "python",
   "nbconvert_exporter": "python",
   "pygments_lexer": "ipython3",
   "version": "3.6.4"
  }
 },
 "nbformat": 4,
 "nbformat_minor": 2
}
