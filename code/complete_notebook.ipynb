{
 "cells": [
  {
   "cell_type": "code",
   "execution_count": 3,
   "metadata": {},
   "outputs": [],
   "source": [
    "# first we need to import the libraries we're going to use\n",
    "# 'import x as y' will import package x but give it the alias 'y' so you don't have to type out x all the time\n",
    "\n",
    "import matplotlib.pyplot as plt # for making nice plots\n",
    "import sklearn as skl # for the machine learning bit!\n",
    "import pandas as pd # for handling and transforming the data\n",
    "import numpy as np # for useful numerical operations\n",
    "import graphviz # for visualizing our decision tree\n",
    "import lime # for visualizing tree model predictions"
   ]
  },
  {
   "cell_type": "markdown",
   "metadata": {},
   "source": [
    "## Part 0 - loading the data"
   ]
  },
  {
   "cell_type": "code",
   "execution_count": 30,
   "metadata": {},
   "outputs": [],
   "source": [
    "df = pd.read_csv(\"../data/all.csv\", encoding='latin1')"
   ]
  },
  {
   "cell_type": "code",
   "execution_count": 31,
   "metadata": {},
   "outputs": [
    {
     "data": {
      "text/html": [
       "<div>\n",
       "<style scoped>\n",
       "    .dataframe tbody tr th:only-of-type {\n",
       "        vertical-align: middle;\n",
       "    }\n",
       "\n",
       "    .dataframe tbody tr th {\n",
       "        vertical-align: top;\n",
       "    }\n",
       "\n",
       "    .dataframe thead th {\n",
       "        text-align: right;\n",
       "    }\n",
       "</style>\n",
       "<table border=\"1\" class=\"dataframe\">\n",
       "  <thead>\n",
       "    <tr style=\"text-align: right;\">\n",
       "      <th></th>\n",
       "      <th>Reference Number</th>\n",
       "      <th>Easting</th>\n",
       "      <th>Northing</th>\n",
       "      <th>Number of Vehicles</th>\n",
       "      <th>Accident Date</th>\n",
       "      <th>Time (24hr)</th>\n",
       "      <th>1st Road Class</th>\n",
       "      <th>Road Surface</th>\n",
       "      <th>Lighting Conditions</th>\n",
       "      <th>Weather Conditions</th>\n",
       "      <th>Casualty Class</th>\n",
       "      <th>Casualty Severity</th>\n",
       "      <th>Sex of Casualty</th>\n",
       "      <th>Age of Casualty</th>\n",
       "      <th>Type of Vehicle</th>\n",
       "    </tr>\n",
       "  </thead>\n",
       "  <tbody>\n",
       "    <tr>\n",
       "      <th>0</th>\n",
       "      <td>2609</td>\n",
       "      <td>434723</td>\n",
       "      <td>435534</td>\n",
       "      <td>1</td>\n",
       "      <td>02-Jan-09</td>\n",
       "      <td>2335</td>\n",
       "      <td>Unclassified</td>\n",
       "      <td>Dry</td>\n",
       "      <td>Darkness: street lights present and lit</td>\n",
       "      <td>Fine without high winds</td>\n",
       "      <td>Driver</td>\n",
       "      <td>Serious</td>\n",
       "      <td>Female</td>\n",
       "      <td>23</td>\n",
       "      <td>Car</td>\n",
       "    </tr>\n",
       "    <tr>\n",
       "      <th>1</th>\n",
       "      <td>2809</td>\n",
       "      <td>441173</td>\n",
       "      <td>433047</td>\n",
       "      <td>1</td>\n",
       "      <td>02-Jan-09</td>\n",
       "      <td>1645</td>\n",
       "      <td>Unclassified</td>\n",
       "      <td>Dry</td>\n",
       "      <td>Darkness: street lights present and lit</td>\n",
       "      <td>Fine without high winds</td>\n",
       "      <td>Pedestrian</td>\n",
       "      <td>Slight</td>\n",
       "      <td>Female</td>\n",
       "      <td>12</td>\n",
       "      <td>Car</td>\n",
       "    </tr>\n",
       "    <tr>\n",
       "      <th>2</th>\n",
       "      <td>2909</td>\n",
       "      <td>443402</td>\n",
       "      <td>438684</td>\n",
       "      <td>2</td>\n",
       "      <td>04-Jan-09</td>\n",
       "      <td>1605</td>\n",
       "      <td>A(M)</td>\n",
       "      <td>Dry</td>\n",
       "      <td>Darkness: street lights present and lit</td>\n",
       "      <td>Fine without high winds</td>\n",
       "      <td>Driver</td>\n",
       "      <td>Slight</td>\n",
       "      <td>Male</td>\n",
       "      <td>83</td>\n",
       "      <td>Car</td>\n",
       "    </tr>\n",
       "    <tr>\n",
       "      <th>3</th>\n",
       "      <td>2909</td>\n",
       "      <td>443402</td>\n",
       "      <td>438684</td>\n",
       "      <td>2</td>\n",
       "      <td>04-Jan-09</td>\n",
       "      <td>1605</td>\n",
       "      <td>A(M)</td>\n",
       "      <td>Dry</td>\n",
       "      <td>Darkness: street lights present and lit</td>\n",
       "      <td>Fine without high winds</td>\n",
       "      <td>Passenger</td>\n",
       "      <td>Slight</td>\n",
       "      <td>Female</td>\n",
       "      <td>65</td>\n",
       "      <td>Car</td>\n",
       "    </tr>\n",
       "    <tr>\n",
       "      <th>4</th>\n",
       "      <td>3109</td>\n",
       "      <td>427890</td>\n",
       "      <td>430474</td>\n",
       "      <td>1</td>\n",
       "      <td>05-Jan-09</td>\n",
       "      <td>705</td>\n",
       "      <td>A</td>\n",
       "      <td>Wet / Damp</td>\n",
       "      <td>Darkness: street lights present and lit</td>\n",
       "      <td>Fine without high winds</td>\n",
       "      <td>Driver</td>\n",
       "      <td>Slight</td>\n",
       "      <td>Male</td>\n",
       "      <td>42</td>\n",
       "      <td>Car</td>\n",
       "    </tr>\n",
       "  </tbody>\n",
       "</table>\n",
       "</div>"
      ],
      "text/plain": [
       "  Reference Number  Easting  Northing  Number of Vehicles Accident Date  \\\n",
       "0             2609   434723    435534                   1     02-Jan-09   \n",
       "1             2809   441173    433047                   1     02-Jan-09   \n",
       "2             2909   443402    438684                   2     04-Jan-09   \n",
       "3             2909   443402    438684                   2     04-Jan-09   \n",
       "4             3109   427890    430474                   1     05-Jan-09   \n",
       "\n",
       "   Time (24hr) 1st Road Class Road Surface  \\\n",
       "0         2335   Unclassified          Dry   \n",
       "1         1645   Unclassified          Dry   \n",
       "2         1605           A(M)          Dry   \n",
       "3         1605           A(M)          Dry   \n",
       "4          705              A   Wet / Damp   \n",
       "\n",
       "                       Lighting Conditions       Weather Conditions  \\\n",
       "0  Darkness: street lights present and lit  Fine without high winds   \n",
       "1  Darkness: street lights present and lit  Fine without high winds   \n",
       "2  Darkness: street lights present and lit  Fine without high winds   \n",
       "3  Darkness: street lights present and lit  Fine without high winds   \n",
       "4  Darkness: street lights present and lit  Fine without high winds   \n",
       "\n",
       "  Casualty Class Casualty Severity Sex of Casualty  Age of Casualty  \\\n",
       "0         Driver           Serious          Female               23   \n",
       "1     Pedestrian            Slight          Female               12   \n",
       "2         Driver            Slight            Male               83   \n",
       "3      Passenger            Slight          Female               65   \n",
       "4         Driver            Slight            Male               42   \n",
       "\n",
       "  Type of Vehicle  \n",
       "0             Car  \n",
       "1             Car  \n",
       "2             Car  \n",
       "3             Car  \n",
       "4             Car  "
      ]
     },
     "execution_count": 31,
     "metadata": {},
     "output_type": "execute_result"
    }
   ],
   "source": [
    "df.head(5)"
   ]
  },
  {
   "cell_type": "markdown",
   "metadata": {},
   "source": [
    "## Part 1 - cleaning the data (5-10 mins)"
   ]
  },
  {
   "cell_type": "code",
   "execution_count": 25,
   "metadata": {},
   "outputs": [],
   "source": [
    "# people load the data and try to find three things that might cause problems for us\n",
    "# valid answers: null values, mix of numerical and text category labels, data in wrong columns, not normalized"
   ]
  },
  {
   "cell_type": "code",
   "execution_count": 47,
   "metadata": {},
   "outputs": [
    {
     "name": "stdout",
     "output_type": "stream",
     "text": [
      "1st Road Class - {'A(M)', 'A', 'Unclassified', 'B', 'C', 'Motorway'}\n",
      "-------\n",
      "Road Surface - {nan, 'Flood (surface water over 3cm deep)', 'Snow', 'Wet / Damp', 'Frost/ Ice', '5', 'Flood', 'Frost / Ice', 'Dry'}\n",
      "-------\n",
      "Lighting Conditions - {'Darkness: street lights present and lit', 'Darkness: street lighting unknown', 'Daylight: street lights present', '5', 'Darkness: no street lighting', 'Darkness: street lights present but unlit'}\n",
      "-------\n",
      "Weather Conditions - {'Unknown', 'Snowing without high winds', 'Fine with high winds', 'Darkness: street lighting unknown', 'Snowing with high winds', 'Fog or mist \\x96 if hazard', 'Raining with high winds', 'Raining without high winds', 'Fine without high winds', 'Other'}\n",
      "-------\n",
      "Casualty Class - {'Passenger', 'Driver', 'Pedestrian', 'Driver/Rider'}\n",
      "-------\n",
      "Casualty Severity - {'Slight', 'Fatal', 'Serious'}\n",
      "-------\n",
      "Sex of Casualty - {'Female', 'Male'}\n",
      "-------\n",
      "Type of Vehicle - {'Goods vehicle 7.5 tonnes mgw and over', 'Car', 'Motorcycle - Unknown CC', 'Motorcycle over 500cc', 'M/cycle 50cc and under', 'Motorcycle over 125cc and up to 500cc', 'Minibus (8 \\x96 16 passenger seats)', 'Mobility Scooter', 'Goods vehicle 3.5 tonnes mgw and under', 'Agricultural vehicle (includes diggers etc.)', 'Tram / Light rail', 'Motorcycle over 50cc and up to 125cc', 'Pedal cycle', 'Goods vehicle over 3.5 tonnes and under 7.5 tonnes mgw', 'Taxi/Private hire car', 'Bus or coach (17 or more passenger seats)', 'Ridden horse', 'Other Vehicle '}\n",
      "-------\n"
     ]
    }
   ],
   "source": [
    "# categories to check\n",
    "\n",
    "# decide which columns you can check contain the correct categories\n",
    "columnsToCheck = ['1st Road Class', 'Road Surface', 'Lighting Conditions', 'Weather Conditions', 'Casualty Class',\n",
    "                 'Casualty Severity', 'Sex of Casualty', 'Type of Vehicle']\n",
    "\n",
    "# go through these columns and check that the values we have are expected\n",
    "for column in columnsToCheck:\n",
    "    valuesPresent = set(df[column].values)\n",
    "    print(\"{} - {}\".format(column, str(valuesPresent)))\n",
    "    print(\"-------\")"
   ]
  },
  {
   "cell_type": "code",
   "execution_count": 50,
   "metadata": {},
   "outputs": [],
   "source": [
    "# numerical columns - similar to above\n",
    "\n",
    "numericalColumnsToCheck = []\n",
    "\n",
    "# is everything a number? a sensible number?"
   ]
  },
  {
   "cell_type": "markdown",
   "metadata": {},
   "source": [
    "## Part 1b - loading the dataset we've already prepared"
   ]
  },
  {
   "cell_type": "code",
   "execution_count": 9,
   "metadata": {},
   "outputs": [],
   "source": [
    "# we'll be using this file from now on! It's been through the process of cleaning and preparing\n",
    "df = pd.read_csv(\"../data/cleaned-with-latlng.csv\", encoding='latin1')"
   ]
  },
  {
   "cell_type": "markdown",
   "metadata": {},
   "source": [
    "## Part 2 - exploratory analysis (10 mins)"
   ]
  },
  {
   "cell_type": "code",
   "execution_count": 16,
   "metadata": {},
   "outputs": [],
   "source": [
    "# have a look at distribution of slight/serious end cases"
   ]
  },
  {
   "cell_type": "code",
   "execution_count": 26,
   "metadata": {},
   "outputs": [],
   "source": [
    "# want to get a feel for distributions of other features and possible relationships"
   ]
  },
  {
   "cell_type": "code",
   "execution_count": 23,
   "metadata": {},
   "outputs": [],
   "source": [
    "# what are we going to learn from this section?"
   ]
  },
  {
   "cell_type": "markdown",
   "metadata": {},
   "source": [
    "## Part 3 - feature engineering (15 mins)"
   ]
  },
  {
   "cell_type": "code",
   "execution_count": 11,
   "metadata": {},
   "outputs": [],
   "source": [
    "# not all of the existing features in the dataset are going to be useful\n",
    "# e.g. without map to tie to, lat and long not useful so can exclude"
   ]
  },
  {
   "cell_type": "code",
   "execution_count": 13,
   "metadata": {},
   "outputs": [],
   "source": [
    "# creating better features from existing ones (e.g. weekend vs weekday, day bins)\n",
    "\n",
    "# some features are useful but not in their current state"
   ]
  },
  {
   "cell_type": "code",
   "execution_count": 15,
   "metadata": {},
   "outputs": [],
   "source": [
    "# encoding categorical data\n",
    "\n",
    "# some features are categorical and we need to encode this = one hot encoding!"
   ]
  },
  {
   "cell_type": "code",
   "execution_count": 9,
   "metadata": {},
   "outputs": [],
   "source": [
    "# normalization not necessary for decision trees but good to know\n",
    "\n",
    "# in some methods you'll want to standardize numerical features\n",
    "# example would be to take e.g. age in our model\n",
    "\n",
    "# find mean and re-do as difference from mean, and visualise here"
   ]
  },
  {
   "cell_type": "markdown",
   "metadata": {},
   "source": [
    "## Part 4 - training the model"
   ]
  },
  {
   "cell_type": "code",
   "execution_count": 16,
   "metadata": {},
   "outputs": [],
   "source": [
    "# want to split into appropriate set sizes, train, cv, test etc\n",
    "# check target class is well-represented in train/test split\n",
    "# training the model"
   ]
  },
  {
   "cell_type": "markdown",
   "metadata": {},
   "source": [
    "## Part 5 - visualising the model"
   ]
  },
  {
   "cell_type": "code",
   "execution_count": 27,
   "metadata": {},
   "outputs": [],
   "source": [
    "# use graphviz and lime to visualise the model and show paths through the tree for new data?"
   ]
  },
  {
   "cell_type": "markdown",
   "metadata": {},
   "source": [
    "## Part 6 - evaluating the model"
   ]
  },
  {
   "cell_type": "code",
   "execution_count": 28,
   "metadata": {},
   "outputs": [],
   "source": [
    "# binary classification metrics\n",
    "\n",
    "# want good examples to demonstrate pros/cons of different metrics"
   ]
  },
  {
   "cell_type": "code",
   "execution_count": 29,
   "metadata": {},
   "outputs": [],
   "source": [
    "# testing on test data"
   ]
  },
  {
   "cell_type": "markdown",
   "metadata": {},
   "source": [
    "## Part 7 - enhancing the model"
   ]
  },
  {
   "cell_type": "code",
   "execution_count": 30,
   "metadata": {},
   "outputs": [],
   "source": [
    "# random forest and ensemble methods\n",
    "\n",
    "# extending to random forest and explaining significance of new parameters\n",
    "# general explanation on advantages of ensemble methods# random forest and ensemble methods"
   ]
  },
  {
   "cell_type": "code",
   "execution_count": 31,
   "metadata": {},
   "outputs": [],
   "source": [
    "# re evaluation on new model"
   ]
  },
  {
   "cell_type": "code",
   "execution_count": null,
   "metadata": {},
   "outputs": [],
   "source": []
  }
 ],
 "metadata": {
  "kernelspec": {
   "display_name": "Python 3",
   "language": "python",
   "name": "python3"
  },
  "language_info": {
   "codemirror_mode": {
    "name": "ipython",
    "version": 3
   },
   "file_extension": ".py",
   "mimetype": "text/x-python",
   "name": "python",
   "nbconvert_exporter": "python",
   "pygments_lexer": "ipython3",
   "version": "3.6.4"
  }
 },
 "nbformat": 4,
 "nbformat_minor": 2
}
