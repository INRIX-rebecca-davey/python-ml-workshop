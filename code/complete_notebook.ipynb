{
 "cells": [
  {
   "cell_type": "code",
   "execution_count": 2,
   "metadata": {},
   "outputs": [],
   "source": [
    "# first we need to import the libraries we're going to use\n",
    "# 'import x as y' will import package x but give it the alias 'y' so you don't have to type out x all the time\n",
    "\n",
    "import matplotlib.pyplot as plt # for making nice plots\n",
    "import sklearn as skl # for the machine learning bit!\n",
    "import pandas as pd # for handling and transforming the data\n",
    "import numpy as np # for useful numerical operations\n",
    "import graphviz # for visualizing our decision tree\n",
    "import lime # for visualizing tree model predictions\n",
    "import datetime # for manipulating dates, timestamps etc\n",
    "\n",
    "%matplotlib inline"
   ]
  },
  {
   "cell_type": "markdown",
   "metadata": {},
   "source": [
    "## Part 1 - loading and cleaning the data (10 mins)"
   ]
  },
  {
   "cell_type": "markdown",
   "metadata": {},
   "source": [
    "### Part 1a - loading and exploring the data"
   ]
  },
  {
   "cell_type": "code",
   "execution_count": 3,
   "metadata": {},
   "outputs": [],
   "source": [
    "# load in the csv of our data, without specifying any options\n",
    "dataPath = \"../data/raw.csv\"\n",
    "df = pd.read_csv(dataPath)"
   ]
  },
  {
   "cell_type": "code",
   "execution_count": 4,
   "metadata": {},
   "outputs": [
    {
     "data": {
      "text/html": [
       "<div>\n",
       "<style scoped>\n",
       "    .dataframe tbody tr th:only-of-type {\n",
       "        vertical-align: middle;\n",
       "    }\n",
       "\n",
       "    .dataframe tbody tr th {\n",
       "        vertical-align: top;\n",
       "    }\n",
       "\n",
       "    .dataframe thead th {\n",
       "        text-align: right;\n",
       "    }\n",
       "</style>\n",
       "<table border=\"1\" class=\"dataframe\">\n",
       "  <thead>\n",
       "    <tr style=\"text-align: right;\">\n",
       "      <th></th>\n",
       "      <th>reference_num</th>\n",
       "      <th>easting</th>\n",
       "      <th>northing</th>\n",
       "      <th>num_vehicles</th>\n",
       "      <th>accident_date</th>\n",
       "      <th>accident_time</th>\n",
       "      <th>road_class</th>\n",
       "      <th>road_surface</th>\n",
       "      <th>lighting</th>\n",
       "      <th>weather</th>\n",
       "      <th>casualty_class</th>\n",
       "      <th>casualty_severity</th>\n",
       "      <th>casualty_sex</th>\n",
       "      <th>casualty_age</th>\n",
       "      <th>vehicle_type</th>\n",
       "    </tr>\n",
       "  </thead>\n",
       "  <tbody>\n",
       "    <tr>\n",
       "      <th>0</th>\n",
       "      <td>3109</td>\n",
       "      <td>427890</td>\n",
       "      <td>430474</td>\n",
       "      <td>1</td>\n",
       "      <td>05-Jan-09</td>\n",
       "      <td>705</td>\n",
       "      <td>A</td>\n",
       "      <td>Wet / Damp</td>\n",
       "      <td>Darkness: street lights present and lit</td>\n",
       "      <td>Fine without high winds</td>\n",
       "      <td>Pedestrian</td>\n",
       "      <td>Serious</td>\n",
       "      <td>Male</td>\n",
       "      <td>18</td>\n",
       "      <td>Car</td>\n",
       "    </tr>\n",
       "    <tr>\n",
       "      <th>1</th>\n",
       "      <td>70609</td>\n",
       "      <td>439643</td>\n",
       "      <td>436962</td>\n",
       "      <td>3</td>\n",
       "      <td>28-Jan-09</td>\n",
       "      <td>1530</td>\n",
       "      <td>Unclassified</td>\n",
       "      <td>Wet / Damp</td>\n",
       "      <td>Daylight: street lights present</td>\n",
       "      <td>Fine without high winds</td>\n",
       "      <td>Driver</td>\n",
       "      <td>Serious</td>\n",
       "      <td>Male</td>\n",
       "      <td>75</td>\n",
       "      <td>Car</td>\n",
       "    </tr>\n",
       "    <tr>\n",
       "      <th>2</th>\n",
       "      <td>321309</td>\n",
       "      <td>437814</td>\n",
       "      <td>429825</td>\n",
       "      <td>3</td>\n",
       "      <td>25-Apr-09</td>\n",
       "      <td>1803</td>\n",
       "      <td>A</td>\n",
       "      <td>Dry</td>\n",
       "      <td>Daylight: street lights present</td>\n",
       "      <td>Fine without high winds</td>\n",
       "      <td>Driver</td>\n",
       "      <td>Serious</td>\n",
       "      <td>Male</td>\n",
       "      <td>39</td>\n",
       "      <td>Car</td>\n",
       "    </tr>\n",
       "    <tr>\n",
       "      <th>3</th>\n",
       "      <td>321309</td>\n",
       "      <td>437814</td>\n",
       "      <td>429825</td>\n",
       "      <td>3</td>\n",
       "      <td>25-Apr-09</td>\n",
       "      <td>1803</td>\n",
       "      <td>A</td>\n",
       "      <td>Dry</td>\n",
       "      <td>Daylight: street lights present</td>\n",
       "      <td>Fine without high winds</td>\n",
       "      <td>Passenger</td>\n",
       "      <td>Serious</td>\n",
       "      <td>Male</td>\n",
       "      <td>16</td>\n",
       "      <td>Car</td>\n",
       "    </tr>\n",
       "    <tr>\n",
       "      <th>4</th>\n",
       "      <td>321309</td>\n",
       "      <td>437814</td>\n",
       "      <td>429825</td>\n",
       "      <td>3</td>\n",
       "      <td>25-Apr-09</td>\n",
       "      <td>1803</td>\n",
       "      <td>A</td>\n",
       "      <td>Dry</td>\n",
       "      <td>Daylight: street lights present</td>\n",
       "      <td>Fine without high winds</td>\n",
       "      <td>Passenger</td>\n",
       "      <td>Serious</td>\n",
       "      <td>Male</td>\n",
       "      <td>12</td>\n",
       "      <td>Car</td>\n",
       "    </tr>\n",
       "  </tbody>\n",
       "</table>\n",
       "</div>"
      ],
      "text/plain": [
       "  reference_num  easting  northing  num_vehicles accident_date  accident_time  \\\n",
       "0          3109   427890    430474             1     05-Jan-09            705   \n",
       "1         70609   439643    436962             3     28-Jan-09           1530   \n",
       "2        321309   437814    429825             3     25-Apr-09           1803   \n",
       "3        321309   437814    429825             3     25-Apr-09           1803   \n",
       "4        321309   437814    429825             3     25-Apr-09           1803   \n",
       "\n",
       "     road_class road_surface                                 lighting  \\\n",
       "0             A   Wet / Damp  Darkness: street lights present and lit   \n",
       "1  Unclassified   Wet / Damp          Daylight: street lights present   \n",
       "2             A          Dry          Daylight: street lights present   \n",
       "3             A          Dry          Daylight: street lights present   \n",
       "4             A          Dry          Daylight: street lights present   \n",
       "\n",
       "                   weather casualty_class casualty_severity casualty_sex  \\\n",
       "0  Fine without high winds     Pedestrian           Serious         Male   \n",
       "1  Fine without high winds         Driver           Serious         Male   \n",
       "2  Fine without high winds         Driver           Serious         Male   \n",
       "3  Fine without high winds      Passenger           Serious         Male   \n",
       "4  Fine without high winds      Passenger           Serious         Male   \n",
       "\n",
       "   casualty_age vehicle_type  \n",
       "0            18          Car  \n",
       "1            75          Car  \n",
       "2            39          Car  \n",
       "3            16          Car  \n",
       "4            12          Car  "
      ]
     },
     "execution_count": 4,
     "metadata": {},
     "output_type": "execute_result"
    }
   ],
   "source": [
    "# use the head function to see the top N rows of the dataframe\n",
    "df.head(5)"
   ]
  },
  {
   "cell_type": "code",
   "execution_count": 5,
   "metadata": {},
   "outputs": [
    {
     "name": "stdout",
     "output_type": "stream",
     "text": [
      "reference_num - type = <class 'str'>\n",
      "easting - type = <class 'numpy.int64'>\n",
      "northing - type = <class 'numpy.int64'>\n",
      "num_vehicles - type = <class 'numpy.int64'>\n",
      "accident_date - type = <class 'str'>\n",
      "accident_time - type = <class 'numpy.int64'>\n",
      "road_class - type = <class 'str'>\n",
      "road_surface - type = <class 'str'>\n",
      "lighting - type = <class 'str'>\n",
      "weather - type = <class 'str'>\n",
      "casualty_class - type = <class 'str'>\n",
      "casualty_severity - type = <class 'str'>\n",
      "casualty_sex - type = <class 'str'>\n",
      "casualty_age - type = <class 'numpy.int64'>\n",
      "vehicle_type - type = <class 'str'>\n"
     ]
    }
   ],
   "source": [
    "# what columns do we have? Iterate over the columns in the dataframe and see what sort of data they contain\n",
    "# hint at the bottom!\n",
    "\n",
    "for columnName in list(df.columns):\n",
    "    valType = type(df.iloc[0][columnName])\n",
    "    print(\"{} - type = {}\".format(columnName, valType))\n",
    "    \n",
    "# hint: df.columns returns the column names, df[columnName].values returns the values as a series"
   ]
  },
  {
   "cell_type": "code",
   "execution_count": 6,
   "metadata": {},
   "outputs": [
    {
     "name": "stdout",
     "output_type": "stream",
     "text": [
      "num_vehicles - min = 1, max = 14\n",
      "-------\n",
      "casualty_age - min = 0, max = 98\n",
      "-------\n"
     ]
    }
   ],
   "source": [
    "# numerical columns - is everything a number? a sensible number?\n",
    "\n",
    "numericalColumnsToCheck = ['num_vehicles', 'casualty_age']\n",
    "\n",
    "for column in numericalColumnsToCheck:\n",
    "    valuesPresent = list(set(df[column].values))\n",
    "    print(\"{} - min = {}, max = {}\".format(column, min(valuesPresent), max(valuesPresent)))\n",
    "    print(\"-------\")"
   ]
  },
  {
   "cell_type": "code",
   "execution_count": 7,
   "metadata": {},
   "outputs": [
    {
     "name": "stdout",
     "output_type": "stream",
     "text": [
      "road_class - {'A(M)', 'C', 'B', 'Motorway', 'Unclassified', 'A'}\n",
      "-------\n",
      "road_surface - {nan, '5', 'Flood (surface water over 3cm deep)', 'Snow', 'Wet / Damp', 'Flood', 'Frost/ Ice', 'Dry', 'Frost / Ice'}\n",
      "-------\n",
      "lighting - {'Darkness: no street lighting', 'Darkness: street lights present but unlit', 'Daylight: street lights present', 'Darkness: street lighting unknown', '5', 'Darkness: street lights present and lit'}\n",
      "-------\n",
      "weather - {'Fog or mist \\x96 if hazard', 'Unknown', 'Other', 'Snowing without high winds', 'Darkness: street lighting unknown', 'Snowing with high winds', 'Fine without high winds', 'Raining with high winds', 'Raining without high winds', 'Fine with high winds'}\n",
      "-------\n",
      "casualty_class - {'Passenger', 'Driver/Rider', 'Pedestrian', 'Driver'}\n",
      "-------\n",
      "casualty_severity - {'Slight', 'Serious'}\n",
      "-------\n",
      "casualty_sex - {'Male', 'Female'}\n",
      "-------\n",
      "vehicle_type - {'Goods vehicle over 3.5 tonnes and under 7.5 tonnes mgw', 'Minibus (8 \\x96 16 passenger seats)', 'Pedal cycle', 'Other Vehicle ', 'M/cycle 50cc and under', 'Motorcycle over 50cc and up to 125cc', 'Goods vehicle 3.5 tonnes mgw and under', 'Agricultural vehicle (includes diggers etc.)', 'Tram / Light rail', 'Mobility Scooter', 'Goods vehicle 7.5 tonnes mgw and over', 'Bus or coach (17 or more passenger seats)', 'Motorcycle over 125cc and up to 500cc', 'Car', 'Taxi/Private hire car', 'Motorcycle - Unknown CC', 'Ridden horse', 'Motorcycle over 500cc'}\n",
      "-------\n"
     ]
    }
   ],
   "source": [
    "# categorical columns\n",
    "\n",
    "# decide which columns you can check contain the correct categories\n",
    "columnsToCheck = ['road_class', 'road_surface', 'lighting', 'weather', 'casualty_class',\n",
    "                 'casualty_severity', 'casualty_sex', 'vehicle_type']\n",
    "\n",
    "# go through these columns and check that the values we have are expected\n",
    "for column in columnsToCheck:\n",
    "    valuesPresent = set(df[column].values)\n",
    "    print(\"{} - {}\".format(column, str(valuesPresent)))\n",
    "    print(\"-------\")"
   ]
  },
  {
   "cell_type": "markdown",
   "metadata": {},
   "source": [
    "### Part 1b: fixing bad data"
   ]
  },
  {
   "cell_type": "code",
   "execution_count": 8,
   "metadata": {},
   "outputs": [
    {
     "name": "stdout",
     "output_type": "stream",
     "text": [
      "88 rows with Frost/ Ice\n",
      "168 rows with Frost / Ice\n",
      "0 rows with Frost/ Ice\n",
      "256 rows with Frost / Ice\n"
     ]
    }
   ],
   "source": [
    "# fixing some bad entries! Changing 'Frost/ Ice' rows to 'Frost / Ice'\n",
    "\n",
    "print(\"{} rows with Frost/ Ice\".format(df[df.road_surface == 'Frost/ Ice'].shape[0]))\n",
    "print(\"{} rows with Frost / Ice\".format(df[df.road_surface == 'Frost / Ice'].shape[0]))\n",
    "\n",
    "# use .loc to retrieve rows you want to change. First argument is filter for which rows, second is column to access\n",
    "df.loc[df.road_surface=='Frost/ Ice', 'road_surface'] = 'Frost / Ice'\n",
    "\n",
    "print(\"{} rows with Frost/ Ice\".format(df[df.road_surface == 'Frost/ Ice'].shape[0]))\n",
    "print(\"{} rows with Frost / Ice\".format(df[df.road_surface == 'Frost / Ice'].shape[0]))"
   ]
  },
  {
   "cell_type": "markdown",
   "metadata": {},
   "source": [
    "### Part 1c - loading the dataset we've already prepared"
   ]
  },
  {
   "cell_type": "code",
   "execution_count": 9,
   "metadata": {},
   "outputs": [],
   "source": [
    "# we'll be using this file from now on! It's been through the process of cleaning and preparing\n",
    "df = pd.read_csv(\"../data/cleaned.csv\")"
   ]
  },
  {
   "cell_type": "markdown",
   "metadata": {},
   "source": [
    "## Part 2 - exploratory analysis and feature engineering"
   ]
  },
  {
   "cell_type": "markdown",
   "metadata": {},
   "source": [
    "### Part 2a - removing unrelated columns"
   ]
  },
  {
   "cell_type": "code",
   "execution_count": 10,
   "metadata": {},
   "outputs": [],
   "source": [
    "# want to get a feel for distributions of features and possible relationships\n",
    "\n",
    "# to learn from this section: what features we may want to engineer in the next section\n",
    "# e.g. bimodal - split in two bins"
   ]
  },
  {
   "cell_type": "code",
   "execution_count": 11,
   "metadata": {},
   "outputs": [
    {
     "data": {
      "text/html": [
       "<div>\n",
       "<style scoped>\n",
       "    .dataframe tbody tr th:only-of-type {\n",
       "        vertical-align: middle;\n",
       "    }\n",
       "\n",
       "    .dataframe tbody tr th {\n",
       "        vertical-align: top;\n",
       "    }\n",
       "\n",
       "    .dataframe thead th {\n",
       "        text-align: right;\n",
       "    }\n",
       "</style>\n",
       "<table border=\"1\" class=\"dataframe\">\n",
       "  <thead>\n",
       "    <tr style=\"text-align: right;\">\n",
       "      <th></th>\n",
       "      <th>num_vehicles</th>\n",
       "      <th>accident_date</th>\n",
       "      <th>accident_time</th>\n",
       "      <th>road_class</th>\n",
       "      <th>road_surface</th>\n",
       "      <th>lighting</th>\n",
       "      <th>weather</th>\n",
       "      <th>casualty_class</th>\n",
       "      <th>casualty_severity</th>\n",
       "      <th>casualty_sex</th>\n",
       "      <th>casualty_age</th>\n",
       "      <th>vehicle_type</th>\n",
       "    </tr>\n",
       "  </thead>\n",
       "  <tbody>\n",
       "    <tr>\n",
       "      <th>0</th>\n",
       "      <td>2</td>\n",
       "      <td>14-Mar-09</td>\n",
       "      <td>2330</td>\n",
       "      <td>Unclassified</td>\n",
       "      <td>Dry</td>\n",
       "      <td>Darkness: no street lighting</td>\n",
       "      <td>Fine with high winds</td>\n",
       "      <td>Driver/Rider</td>\n",
       "      <td>Slight</td>\n",
       "      <td>Male</td>\n",
       "      <td>30</td>\n",
       "      <td>Car</td>\n",
       "    </tr>\n",
       "    <tr>\n",
       "      <th>1</th>\n",
       "      <td>2</td>\n",
       "      <td>14-Mar-09</td>\n",
       "      <td>2330</td>\n",
       "      <td>Unclassified</td>\n",
       "      <td>Dry</td>\n",
       "      <td>Darkness: no street lighting</td>\n",
       "      <td>Fine with high winds</td>\n",
       "      <td>Driver/Rider</td>\n",
       "      <td>Slight</td>\n",
       "      <td>Female</td>\n",
       "      <td>20</td>\n",
       "      <td>Car</td>\n",
       "    </tr>\n",
       "    <tr>\n",
       "      <th>2</th>\n",
       "      <td>1</td>\n",
       "      <td>03-Oct-09</td>\n",
       "      <td>630</td>\n",
       "      <td>A(M)</td>\n",
       "      <td>Dry</td>\n",
       "      <td>Darkness: no street lighting</td>\n",
       "      <td>Fine with high winds</td>\n",
       "      <td>Driver/Rider</td>\n",
       "      <td>Slight</td>\n",
       "      <td>Male</td>\n",
       "      <td>29</td>\n",
       "      <td>Car</td>\n",
       "    </tr>\n",
       "    <tr>\n",
       "      <th>3</th>\n",
       "      <td>4</td>\n",
       "      <td>19-Nov-09</td>\n",
       "      <td>630</td>\n",
       "      <td>A(M)</td>\n",
       "      <td>Dry</td>\n",
       "      <td>Darkness: no street lighting</td>\n",
       "      <td>Fine with high winds</td>\n",
       "      <td>Driver/Rider</td>\n",
       "      <td>Slight</td>\n",
       "      <td>Male</td>\n",
       "      <td>17</td>\n",
       "      <td>Car</td>\n",
       "    </tr>\n",
       "    <tr>\n",
       "      <th>4</th>\n",
       "      <td>4</td>\n",
       "      <td>19-Nov-09</td>\n",
       "      <td>630</td>\n",
       "      <td>A(M)</td>\n",
       "      <td>Dry</td>\n",
       "      <td>Darkness: no street lighting</td>\n",
       "      <td>Fine with high winds</td>\n",
       "      <td>Driver/Rider</td>\n",
       "      <td>Slight</td>\n",
       "      <td>Male</td>\n",
       "      <td>53</td>\n",
       "      <td>Goods vehicle 3.5 tonnes mgw and under</td>\n",
       "    </tr>\n",
       "  </tbody>\n",
       "</table>\n",
       "</div>"
      ],
      "text/plain": [
       "   num_vehicles accident_date  accident_time    road_class road_surface  \\\n",
       "0             2     14-Mar-09           2330  Unclassified          Dry   \n",
       "1             2     14-Mar-09           2330  Unclassified          Dry   \n",
       "2             1     03-Oct-09            630          A(M)          Dry   \n",
       "3             4     19-Nov-09            630          A(M)          Dry   \n",
       "4             4     19-Nov-09            630          A(M)          Dry   \n",
       "\n",
       "                       lighting               weather casualty_class  \\\n",
       "0  Darkness: no street lighting  Fine with high winds   Driver/Rider   \n",
       "1  Darkness: no street lighting  Fine with high winds   Driver/Rider   \n",
       "2  Darkness: no street lighting  Fine with high winds   Driver/Rider   \n",
       "3  Darkness: no street lighting  Fine with high winds   Driver/Rider   \n",
       "4  Darkness: no street lighting  Fine with high winds   Driver/Rider   \n",
       "\n",
       "  casualty_severity casualty_sex  casualty_age  \\\n",
       "0            Slight         Male            30   \n",
       "1            Slight       Female            20   \n",
       "2            Slight         Male            29   \n",
       "3            Slight         Male            17   \n",
       "4            Slight         Male            53   \n",
       "\n",
       "                             vehicle_type  \n",
       "0                                     Car  \n",
       "1                                     Car  \n",
       "2                                     Car  \n",
       "3                                     Car  \n",
       "4  Goods vehicle 3.5 tonnes mgw and under  "
      ]
     },
     "execution_count": 11,
     "metadata": {},
     "output_type": "execute_result"
    }
   ],
   "source": [
    "# we know ahead of time that there are some columns that definitely won't be useful for classification\n",
    "# these are the reference number, and probably the coordinates (latitude and longitude)\n",
    "# we can drop these now\n",
    "\n",
    "df = df.drop(columns=['latitude', 'longitude', 'reference_num'])\n",
    "df.head(5)"
   ]
  },
  {
   "cell_type": "code",
   "execution_count": 12,
   "metadata": {},
   "outputs": [],
   "source": [
    "# we have a range of different columns left\n",
    "# some are numerical, some are date/time-related, some are categorical, and some are binary"
   ]
  },
  {
   "cell_type": "markdown",
   "metadata": {},
   "source": [
    "### Part 2b - exploring binary columns"
   ]
  },
  {
   "cell_type": "code",
   "execution_count": 13,
   "metadata": {},
   "outputs": [
    {
     "data": {
      "text/plain": [
       "casualty_severity  casualty_sex\n",
       "Serious            Female           655\n",
       "                   Male            1537\n",
       "Slight             Female          7038\n",
       "                   Male            9653\n",
       "dtype: int64"
      ]
     },
     "execution_count": 13,
     "metadata": {},
     "output_type": "execute_result"
    }
   ],
   "source": [
    "# let's look at a binary column - casualty sex. Does it matter? What can we tell from this data?\n",
    "\n",
    "df.groupby(['casualty_severity', 'casualty_sex']).size()\n",
    "\n",
    "# hint: men are the casualty in 58% of slight accidents but 70% of serious accidents\n",
    "# this could be useful information! But we need to encode the binary column to 0 and 1, instead of string labels."
   ]
  },
  {
   "cell_type": "code",
   "execution_count": 14,
   "metadata": {},
   "outputs": [],
   "source": [
    "# encoding binary columns - there are two columns that can only have two values\n",
    "# this means we can encode these as 0 and 1, instead of using string labels\n",
    "\n",
    "binaryColumns = ['casualty_sex', 'casualty_severity']\n",
    "\n",
    "# this function will return 1 if the value matches the specified 'positive' value\n",
    "# e.g. encodeBinary('Male', 'Female') = 0, encodeBinary('Serious', 'Serious') = 1\n",
    "def encodeBinary(positiveValue, value):\n",
    "    return int(value == positiveValue)\n",
    "\n",
    "# applying this function to our dataframe\n",
    "df['is_male'] = [encodeBinary('Male', s) for s in df.casualty_sex]\n",
    "df['is_serious'] = [encodeBinary('Serious', s) for s in df.casualty_severity]\n",
    "\n",
    "# we can drop the old columns, now we have the binary versions\n",
    "df = df.drop(columns = ['casualty_severity', 'casualty_sex'])"
   ]
  },
  {
   "cell_type": "code",
   "execution_count": 15,
   "metadata": {},
   "outputs": [
    {
     "data": {
      "text/html": [
       "<div>\n",
       "<style scoped>\n",
       "    .dataframe tbody tr th:only-of-type {\n",
       "        vertical-align: middle;\n",
       "    }\n",
       "\n",
       "    .dataframe tbody tr th {\n",
       "        vertical-align: top;\n",
       "    }\n",
       "\n",
       "    .dataframe thead th {\n",
       "        text-align: right;\n",
       "    }\n",
       "</style>\n",
       "<table border=\"1\" class=\"dataframe\">\n",
       "  <thead>\n",
       "    <tr style=\"text-align: right;\">\n",
       "      <th></th>\n",
       "      <th>num_vehicles</th>\n",
       "      <th>accident_date</th>\n",
       "      <th>accident_time</th>\n",
       "      <th>road_class</th>\n",
       "      <th>road_surface</th>\n",
       "      <th>lighting</th>\n",
       "      <th>weather</th>\n",
       "      <th>casualty_class</th>\n",
       "      <th>casualty_age</th>\n",
       "      <th>vehicle_type</th>\n",
       "      <th>is_male</th>\n",
       "      <th>is_serious</th>\n",
       "    </tr>\n",
       "  </thead>\n",
       "  <tbody>\n",
       "    <tr>\n",
       "      <th>0</th>\n",
       "      <td>2</td>\n",
       "      <td>14-Mar-09</td>\n",
       "      <td>2330</td>\n",
       "      <td>Unclassified</td>\n",
       "      <td>Dry</td>\n",
       "      <td>Darkness: no street lighting</td>\n",
       "      <td>Fine with high winds</td>\n",
       "      <td>Driver/Rider</td>\n",
       "      <td>30</td>\n",
       "      <td>Car</td>\n",
       "      <td>1</td>\n",
       "      <td>0</td>\n",
       "    </tr>\n",
       "    <tr>\n",
       "      <th>1</th>\n",
       "      <td>2</td>\n",
       "      <td>14-Mar-09</td>\n",
       "      <td>2330</td>\n",
       "      <td>Unclassified</td>\n",
       "      <td>Dry</td>\n",
       "      <td>Darkness: no street lighting</td>\n",
       "      <td>Fine with high winds</td>\n",
       "      <td>Driver/Rider</td>\n",
       "      <td>20</td>\n",
       "      <td>Car</td>\n",
       "      <td>0</td>\n",
       "      <td>0</td>\n",
       "    </tr>\n",
       "    <tr>\n",
       "      <th>2</th>\n",
       "      <td>1</td>\n",
       "      <td>03-Oct-09</td>\n",
       "      <td>630</td>\n",
       "      <td>A(M)</td>\n",
       "      <td>Dry</td>\n",
       "      <td>Darkness: no street lighting</td>\n",
       "      <td>Fine with high winds</td>\n",
       "      <td>Driver/Rider</td>\n",
       "      <td>29</td>\n",
       "      <td>Car</td>\n",
       "      <td>1</td>\n",
       "      <td>0</td>\n",
       "    </tr>\n",
       "    <tr>\n",
       "      <th>3</th>\n",
       "      <td>4</td>\n",
       "      <td>19-Nov-09</td>\n",
       "      <td>630</td>\n",
       "      <td>A(M)</td>\n",
       "      <td>Dry</td>\n",
       "      <td>Darkness: no street lighting</td>\n",
       "      <td>Fine with high winds</td>\n",
       "      <td>Driver/Rider</td>\n",
       "      <td>17</td>\n",
       "      <td>Car</td>\n",
       "      <td>1</td>\n",
       "      <td>0</td>\n",
       "    </tr>\n",
       "    <tr>\n",
       "      <th>4</th>\n",
       "      <td>4</td>\n",
       "      <td>19-Nov-09</td>\n",
       "      <td>630</td>\n",
       "      <td>A(M)</td>\n",
       "      <td>Dry</td>\n",
       "      <td>Darkness: no street lighting</td>\n",
       "      <td>Fine with high winds</td>\n",
       "      <td>Driver/Rider</td>\n",
       "      <td>53</td>\n",
       "      <td>Goods vehicle 3.5 tonnes mgw and under</td>\n",
       "      <td>1</td>\n",
       "      <td>0</td>\n",
       "    </tr>\n",
       "  </tbody>\n",
       "</table>\n",
       "</div>"
      ],
      "text/plain": [
       "   num_vehicles accident_date  accident_time    road_class road_surface  \\\n",
       "0             2     14-Mar-09           2330  Unclassified          Dry   \n",
       "1             2     14-Mar-09           2330  Unclassified          Dry   \n",
       "2             1     03-Oct-09            630          A(M)          Dry   \n",
       "3             4     19-Nov-09            630          A(M)          Dry   \n",
       "4             4     19-Nov-09            630          A(M)          Dry   \n",
       "\n",
       "                       lighting               weather casualty_class  \\\n",
       "0  Darkness: no street lighting  Fine with high winds   Driver/Rider   \n",
       "1  Darkness: no street lighting  Fine with high winds   Driver/Rider   \n",
       "2  Darkness: no street lighting  Fine with high winds   Driver/Rider   \n",
       "3  Darkness: no street lighting  Fine with high winds   Driver/Rider   \n",
       "4  Darkness: no street lighting  Fine with high winds   Driver/Rider   \n",
       "\n",
       "   casualty_age                            vehicle_type  is_male  is_serious  \n",
       "0            30                                     Car        1           0  \n",
       "1            20                                     Car        0           0  \n",
       "2            29                                     Car        1           0  \n",
       "3            17                                     Car        1           0  \n",
       "4            53  Goods vehicle 3.5 tonnes mgw and under        1           0  "
      ]
     },
     "execution_count": 15,
     "metadata": {},
     "output_type": "execute_result"
    }
   ],
   "source": [
    "df.head(5)"
   ]
  },
  {
   "cell_type": "markdown",
   "metadata": {},
   "source": [
    "### Part 2c - exploring numerical and datetime columns"
   ]
  },
  {
   "cell_type": "code",
   "execution_count": 17,
   "metadata": {},
   "outputs": [
    {
     "data": {
      "image/png": "[encoded data removed]",
      "text/plain": [
       "<matplotlib.figure.Figure at 0x2639b352898>"
      ]
     },
     "metadata": {},
     "output_type": "display_data"
    }
   ],
   "source": [
    "# numerical columns - are they useful? Do we want to do anything with them?\n",
    "\n",
    "numericalColumns = ['num_vehicles', 'casualty_age']\n",
    "\n",
    "for numCol in numericalColumns:\n",
    "    grouped = df.groupby([numCol, 'is_serious']).size()\n",
    "    grouped.plot.bar()"
   ]
  },
  {
   "cell_type": "code",
   "execution_count": null,
   "metadata": {},
   "outputs": [],
   "source": [
    "# let's explore the date and time fields\n",
    "# in their current format, they aren't very useful - we want to extract useful columns\n",
    "\n",
    "monthMap = {'Jan': 1, 'Feb': 2, 'Mar': 3, 'Apr': 4, 'May': 5, 'Jun': 6, 'Jul': 7, 'Aug': 8, \n",
    "            'Sep': 9, 'Oct': 10, 'Nov': 11, 'Dec': 12}\n",
    "\n",
    "# write a function to take a date string of format DD-Mon-YY and extract the month as an integer\n",
    "def getMonth(s):\n",
    "    return monthMap[s.split('-')[1]]\n",
    "\n",
    "# write a function to take a date string of format DD-Mon-YY and extract the full year as an integer\n",
    "def getYear(s):\n",
    "    return 2000 + int(s.split('-')[2])\n",
    "\n",
    "# use these functions to add new columns to our dataframe\n",
    "df['month'] = [getMonth(s) for s in df['accident_date']]\n",
    "df['year'] = [getYear(s) for s in df['accident_date']]\n",
    "df = df.drop(columns=['accident_date'])\n",
    "\n",
    "df.head(5)"
   ]
  },
  {
   "cell_type": "code",
   "execution_count": null,
   "metadata": {},
   "outputs": [],
   "source": [
    "# does the year matter? let's have a look at the distribution of slight vs serious cases by year\n",
    "\n",
    "years = set(df.year.values)\n",
    "x = []\n",
    "y = []\n",
    "\n",
    "for year in years:\n",
    "    subDf = df[df.year == year]\n",
    "    numSlight = len(subDf[subDf.casualty_severity == 'Slight'])\n",
    "    numSerious = len(subDf[subDf.casualty_severity == 'Serious'])\n",
    "    frac = numSerious/numSlight\n",
    "    x.append(year)\n",
    "    y.append(frac)"
   ]
  },
  {
   "cell_type": "code",
   "execution_count": null,
   "metadata": {},
   "outputs": [],
   "source": [
    "plt.scatter(x,y)\n",
    "\n",
    "# loose linear relationship but probably not enough to be useful\n",
    "# will drop year column\n",
    "\n",
    "df = df.drop(columns = ['year'])"
   ]
  },
  {
   "cell_type": "code",
   "execution_count": null,
   "metadata": {},
   "outputs": [],
   "source": [
    "# write a function to take a 24hr HHMM time and get the hour as an int\n",
    "# e.g. 1730 -> 17, 930 -> 9\n",
    "# warning: leading zeros have been truncated, so 12.30am == 30\n",
    "def getHour(n):\n",
    "    s = str(n)\n",
    "    if len(s) == 3:\n",
    "        return int(s[0])\n",
    "    elif len(s) == 2:\n",
    "        return 0\n",
    "    else:\n",
    "        return int(s[0:2])"
   ]
  },
  {
   "cell_type": "markdown",
   "metadata": {},
   "source": [
    "### Part 2d - categorical columns"
   ]
  },
  {
   "cell_type": "code",
   "execution_count": null,
   "metadata": {},
   "outputs": [],
   "source": [
    "# categorical columns"
   ]
  },
  {
   "cell_type": "code",
   "execution_count": null,
   "metadata": {},
   "outputs": [],
   "source": [
    "colsToExplore = ['num_vehicles', 'road_class', 'casualty_sex', 'road_surface']\n",
    "\n",
    "for colte in colsToExplore:\n",
    "    results = df.groupby([colte, 'casualty_severity'])[colte].agg(['count'])\n",
    "    results.plot.bar(stacked=True)"
   ]
  },
  {
   "cell_type": "code",
   "execution_count": null,
   "metadata": {},
   "outputs": [],
   "source": []
  },
  {
   "cell_type": "code",
   "execution_count": null,
   "metadata": {},
   "outputs": [],
   "source": [
    "# creating better features from existing ones (e.g. weekend vs weekday, day bins)\n",
    "\n",
    "# some features are useful but not in their current state"
   ]
  },
  {
   "cell_type": "code",
   "execution_count": null,
   "metadata": {},
   "outputs": [],
   "source": [
    "# functions to get new features\n",
    "\n",
    "monthMap = {'Jan': 1, 'Feb': 2, 'Mar': 3, 'Apr': 4, 'May': 5, 'Jun': 6, 'Jul': 7, 'Aug': 8, \n",
    "            'Sep': 9, 'Oct': 10, 'Nov': 11, 'Dec': 12}\n",
    "\n",
    "# write a function to take a date string of format DD-Mon-YY and extract the month as an integer\n",
    "def getMonth(s):\n",
    "    return s.split('-')[1]\n",
    "\n",
    "# write a function to take a date string of format DD-Mon-YY and extract the full year as an integer\n",
    "def getYear(s):\n",
    "    return 2000 + int(s.split('-')[2])\n",
    "\n",
    "# write a function to take a 24hr HHMM time and get the hour as an int\n",
    "# e.g. 1730 -> 17, 930 -> 9\n",
    "# warning: leading zeros have been truncated, so 12.30am == 30\n",
    "def getHour(n):\n",
    "    s = str(n)\n",
    "    if len(s) == 3:\n",
    "        return int(s[0])\n",
    "    elif len(s) == 2:\n",
    "        return 0\n",
    "    else:\n",
    "        return int(s[0:2])\n",
    "\n",
    "# use these functions to add new columns to our dataframe\n",
    "df['month'] = [getMonth(s) for s in df['accident_date']]\n",
    "df['year'] = [getYear(s) for s in df['accident_date']]\n",
    "df['hour'] = [getHour(n) for n in df['accident_time']]"
   ]
  },
  {
   "cell_type": "code",
   "execution_count": null,
   "metadata": {},
   "outputs": [],
   "source": [
    "colName = 'month'\n",
    "monthOrder = ['Jan', 'Feb', 'Mar', 'Apr', 'May', 'Jun', 'Jul', 'Aug', 'Sep', 'Oct', 'Nov', 'Dec']\n",
    "results = df.groupby(colName)[colName].agg(['count']).loc[monthOrder]\n",
    "results.plot.bar()"
   ]
  },
  {
   "cell_type": "code",
   "execution_count": null,
   "metadata": {},
   "outputs": [],
   "source": [
    "colName = 'hour'\n",
    "results = df.groupby(colName).size()\n",
    "results.plot.bar()"
   ]
  },
  {
   "cell_type": "code",
   "execution_count": null,
   "metadata": {},
   "outputs": [],
   "source": [
    "\n",
    "\n",
    "monthMap = {'Jan': 1, 'Feb': 2, 'Mar': 3, 'Apr': 4, 'May': 5, 'Jun': 6, 'Jul': 7, 'Aug': 8, 'Sep': 9, 'Oct': 10, 'Nov': 11, 'Dec': 12}\n",
    "dayMap = {1: 'Mon', 2: 'Tue', 3: 'Wed', 4: 'Thu', 5: 'Fri', 6: 'Sat', 7: 'Sun'}\n",
    "\n",
    "def getWeekday(s):\n",
    "    month = monthMap[getMonth(s)]\n",
    "    year = getYear(s)\n",
    "    date = int(s.split('-')[0])\n",
    "    dt = datetime.datetime(year, month, date)\n",
    "    return dayMap[dt.isoweekday()]\n",
    "\n",
    "df['weekday'] = [getWeekday(s) for s in df['accident_date']]"
   ]
  },
  {
   "cell_type": "code",
   "execution_count": null,
   "metadata": {},
   "outputs": [],
   "source": [
    "colName = 'weekday'\n",
    "dayOrder = ['Mon', 'Tue', 'Wed', 'Thu', 'Fri', 'Sat', 'Sun']\n",
    "results = df.groupby(colName)[colName].agg(['count']).loc[dayOrder]\n",
    "results.plot.bar()"
   ]
  },
  {
   "cell_type": "code",
   "execution_count": null,
   "metadata": {},
   "outputs": [],
   "source": [
    "# encoding categorical data\n",
    "\n",
    "# some features are categorical and we need to encode this = one hot encoding!"
   ]
  },
  {
   "cell_type": "code",
   "execution_count": null,
   "metadata": {},
   "outputs": [],
   "source": [
    "# normalization not necessary for decision trees but good to know\n",
    "\n",
    "# in some methods you'll want to standardize numerical features\n",
    "# example would be to take e.g. age in our model\n",
    "\n",
    "# find mean and re-do as difference from mean, and visualise here"
   ]
  },
  {
   "cell_type": "code",
   "execution_count": null,
   "metadata": {},
   "outputs": [],
   "source": [
    "#byAge = df.groupby('casualty_age')['casualty_age'].agg(['count']).reset_index(drop=False)\n",
    "#byAge.plot.bar()\n",
    "\n",
    "ages = list(df['casualty_age'].values)\n",
    "plt.hist(ages)"
   ]
  },
  {
   "cell_type": "code",
   "execution_count": null,
   "metadata": {},
   "outputs": [],
   "source": [
    "meanAge = np.mean(ages)\n",
    "print(meanAge)\n",
    "\n",
    "def norm(x,m):\n",
    "    #newX = 0.001 if x == 0 else x\n",
    "    return (x-m)/m\n",
    "\n",
    "normAges = [norm(age,meanAge) for age in ages]"
   ]
  },
  {
   "cell_type": "code",
   "execution_count": null,
   "metadata": {},
   "outputs": [],
   "source": [
    "plt.hist(normAges)"
   ]
  },
  {
   "cell_type": "markdown",
   "metadata": {},
   "source": [
    "## Part 4 - training the model"
   ]
  },
  {
   "cell_type": "markdown",
   "metadata": {},
   "source": [
    "### Part 4a - getting the data into X matrix and y vector form"
   ]
  },
  {
   "cell_type": "code",
   "execution_count": null,
   "metadata": {},
   "outputs": [],
   "source": [
    "# getting into X and y shapes\n",
    "\n",
    "columns = list(df.columns)\n",
    "\n",
    "def encodeY(yString):\n",
    "    return int(yString == \"Serious\")\n",
    "\n",
    "y = np.array([encodeY(s) for s in df.casualty_severity.values])"
   ]
  },
  {
   "cell_type": "markdown",
   "metadata": {},
   "source": [
    "### Part 4b - creating a train/test split"
   ]
  },
  {
   "cell_type": "code",
   "execution_count": null,
   "metadata": {},
   "outputs": [],
   "source": [
    "# split up using skl and do it all k-fold wise\n",
    "# check distribution of target class between train/test"
   ]
  },
  {
   "cell_type": "markdown",
   "metadata": {},
   "source": [
    "### Part 4c - initialise classifier and train"
   ]
  },
  {
   "cell_type": "code",
   "execution_count": null,
   "metadata": {},
   "outputs": [],
   "source": [
    "dtc = skl.tree.DecisionTreeClassifier()"
   ]
  },
  {
   "cell_type": "markdown",
   "metadata": {},
   "source": [
    "## Part 5 - visualising the model"
   ]
  },
  {
   "cell_type": "code",
   "execution_count": null,
   "metadata": {},
   "outputs": [],
   "source": [
    "# use graphviz and lime to visualise the model and show paths through the tree for new data?"
   ]
  },
  {
   "cell_type": "markdown",
   "metadata": {},
   "source": [
    "## Part 6 - evaluating the model"
   ]
  },
  {
   "cell_type": "code",
   "execution_count": null,
   "metadata": {},
   "outputs": [],
   "source": [
    "# binary classification metrics\n",
    "\n",
    "# want good examples to demonstrate pros/cons of different metrics"
   ]
  },
  {
   "cell_type": "code",
   "execution_count": null,
   "metadata": {},
   "outputs": [],
   "source": [
    "# testing on test data"
   ]
  },
  {
   "cell_type": "markdown",
   "metadata": {},
   "source": [
    "## Part 7 - enhancing the model"
   ]
  },
  {
   "cell_type": "code",
   "execution_count": null,
   "metadata": {},
   "outputs": [],
   "source": [
    "# random forest and ensemble methods\n",
    "\n",
    "# extending to random forest and explaining significance of new parameters\n",
    "# general explanation on advantages of ensemble methods# random forest and ensemble methods"
   ]
  },
  {
   "cell_type": "code",
   "execution_count": null,
   "metadata": {},
   "outputs": [],
   "source": [
    "# re evaluation on new model"
   ]
  },
  {
   "cell_type": "code",
   "execution_count": null,
   "metadata": {},
   "outputs": [],
   "source": []
  }
 ],
 "metadata": {
  "kernelspec": {
   "display_name": "Python 3",
   "language": "python",
   "name": "python3"
  },
  "language_info": {
   "codemirror_mode": {
    "name": "ipython",
    "version": 3
   },
   "file_extension": ".py",
   "mimetype": "text/x-python",
   "name": "python",
   "nbconvert_exporter": "python",
   "pygments_lexer": "ipython3",
   "version": "3.6.4"
  }
 },
 "nbformat": 4,
 "nbformat_minor": 2
}
